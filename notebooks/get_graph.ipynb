{
 "cells": [
  {
   "cell_type": "code",
   "execution_count": 25,
   "id": "fd62ff2b",
   "metadata": {},
   "outputs": [],
   "source": [
    "import numpy as np\n",
    "from itertools import combinations\n",
    "import json"
   ]
  },
  {
   "cell_type": "code",
   "execution_count": 26,
   "id": "460ddc1f",
   "metadata": {},
   "outputs": [],
   "source": [
    "np.random.seed(0)"
   ]
  },
  {
   "cell_type": "code",
   "execution_count": 27,
   "id": "fdf10dda",
   "metadata": {},
   "outputs": [],
   "source": [
    "with open('patterns.json', 'r') as f:\n",
    "    patterns = json.load(f)\n",
    "#patterns"
   ]
  },
  {
   "cell_type": "code",
   "execution_count": 28,
   "id": "e8376fa6",
   "metadata": {},
   "outputs": [
    {
     "data": {
      "text/plain": [
       "(7, np.int64(5))"
      ]
     },
     "execution_count": 28,
     "metadata": {},
     "output_type": "execute_result"
    }
   ],
   "source": [
    "N = len(patterns[0]) # Number of agents\n",
    "s = np.sum([int(patterns[0][i][0]) for i in patterns[0]])  # Number of available spots\n",
    "N,s"
   ]
  },
  {
   "cell_type": "code",
   "execution_count": 29,
   "id": "51efddab",
   "metadata": {},
   "outputs": [],
   "source": [
    "neighbors = []\n",
    "for pattern in patterns:\n",
    "    neigh = np.array([[i for i in range(N)] for j in range(N)])\n",
    "    neighbors.append(neigh)\n",
    "#neighbors"
   ]
  },
  {
   "cell_type": "code",
   "execution_count": 30,
   "id": "3c0d1b05",
   "metadata": {},
   "outputs": [],
   "source": [
    "def filter_pattern(pattern, f):\n",
    "    f_pat = {}\n",
    "    for i in pattern.keys():\n",
    "        if f[int(i)]:\n",
    "            f_pat[i] = pattern[i]\n",
    "    return f_pat\n",
    "\n",
    "def get_strategy(pattern, idx, known_idx, shuffle=False):\n",
    "    #print(type(idx))\n",
    "    my_neighb = known_idx[idx].tolist() \n",
    "    N = len(pattern)\n",
    "    l = len(pattern[str(idx)])\n",
    "    #print(my_neighb)\n",
    "\n",
    "    for Nneigh in range(1,len(my_neighb)+1):\n",
    "        neighb_lists = list(combinations(my_neighb, Nneigh))\n",
    "        if shuffle:\n",
    "            np.random.shuffle(neighb_lists)\n",
    "        #print(\"neigh lists\", neighb_lists)\n",
    "        \n",
    "        for n in neighb_lists:\n",
    "            columns = sorted(n)\n",
    "            #print(type(columns[0]))\n",
    "            mask = [(i in columns) for i in range(N)]\n",
    "            #print(\"mask\", mask)\n",
    "            f_pat = filter_pattern(pattern, mask) #Leave just the observed data columns\n",
    "            #print(\"f_pat\", f_pat) \n",
    "            \n",
    "            #print(idx,pattern,f_pat)\n",
    "            strat = {}\n",
    "            in_freq = {}\n",
    "            test = True\n",
    "            for i in range(l):\n",
    "                p = ''.join(f_pat[str(a)][i] for a in columns)\n",
    "                #print(strat)\n",
    "                if p not in strat:\n",
    "                    strat[p] = pattern[str(idx)][(i+1)%l]\n",
    "                    in_freq[p] = 1\n",
    "                else:\n",
    "                    if strat[p] != pattern[str(idx)][(i+1)%l]:\n",
    "                        test = False\n",
    "                        break\n",
    "                    else:\n",
    "                        in_freq[p] += 1\n",
    "        \n",
    "            if test: \n",
    "                same = True\n",
    "                ini = strat[list(strat.keys())[0]]\n",
    "                for p in strat:\n",
    "                    same = same and (strat[p] == ini)\n",
    "                if same: #If it takes always the same action...\n",
    "                    return (), {'any': strat[list(strat.keys())[0]]}, {'any': 1}\n",
    "                else:\n",
    "                    return tuple(map(str,columns)), strat, in_freq\n",
    "    return None  #If the output is None, then most likely there is no stable pattern"
   ]
  },
  {
   "cell_type": "code",
   "execution_count": 31,
   "id": "d58b45e5",
   "metadata": {},
   "outputs": [],
   "source": [
    "graphs = []\n",
    "for n in range(len(patterns)):\n",
    "    pat = patterns[n]\n",
    "    neighbors_n = neighbors[n] \n",
    "    rel_data = {}\n",
    "    for i in range(N): \n",
    "        rel_data[i] = {}\n",
    "        rel_data[i][\"pattern\"] = pat[str(i)]\n",
    "        strat = get_strategy(pat, i, neighbors_n, shuffle=True)\n",
    "        #print(f\"strat {i}\", strat)\n",
    "        rel_data[i][\"neigh\"] = strat[0]\n",
    "        rel_data[i][\"strat\"] = strat[1]\n",
    "        rel_data[i][\"input freq\"] = strat[2]\n",
    "    graphs.append(rel_data)"
   ]
  },
  {
   "cell_type": "code",
   "execution_count": 32,
   "id": "686dcd6e",
   "metadata": {},
   "outputs": [],
   "source": [
    "with open(f'graph_data_N{N:d}s{s:d}.json', 'w') as json_file:\n",
    "  json.dump(graphs, json_file)"
   ]
  }
 ],
 "metadata": {
  "kernelspec": {
   "display_name": "venv",
   "language": "python",
   "name": "venv"
  },
  "language_info": {
   "codemirror_mode": {
    "name": "ipython",
    "version": 3
   },
   "file_extension": ".py",
   "mimetype": "text/x-python",
   "name": "python",
   "nbconvert_exporter": "python",
   "pygments_lexer": "ipython3",
   "version": "3.12.3"
  }
 },
 "nbformat": 4,
 "nbformat_minor": 5
}
