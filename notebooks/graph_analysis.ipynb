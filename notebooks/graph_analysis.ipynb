{
 "cells": [
  {
   "cell_type": "code",
   "execution_count": 37,
   "id": "05b5f2a2-f6a5-4749-99f1-2f5109cbeed5",
   "metadata": {},
   "outputs": [],
   "source": [
    "import numpy as np\n",
    "import json\n",
    "import random\n",
    "import networkx as nx\n",
    "from pyvis.network import Network\n",
    "import matplotlib.pyplot as plt\n",
    "import ipywidgets as widgets\n",
    "from IPython.display import display, clear_output\n",
    "\n",
    "import sys\n",
    "\n",
    "sys.path.append('../src')\n",
    "\n",
    "from config.config import PATHS"
   ]
  },
  {
   "cell_type": "code",
   "execution_count": 38,
   "id": "92c3bd1f-a17b-4ebe-bd70-b5fb610fbe46",
   "metadata": {},
   "outputs": [],
   "source": [
    "# No. of agents\n",
    "N = 12\n",
    "# No. of available spots\n",
    "s = 4"
   ]
  },
  {
   "cell_type": "code",
   "execution_count": 39,
   "id": "b39e4127",
   "metadata": {},
   "outputs": [],
   "source": [
    "import matplotlib.colors as mcolors\n",
    "named_colors = mcolors.CSS4_COLORS\n",
    "color_names = list(named_colors.keys())\n",
    "random.seed(1234)\n",
    "random.shuffle(color_names)\n",
    "shape_names = ['dot','diamond','square','triangle','star','triangleDown']\n",
    "\n",
    "def bin_to_decimal(bin_str):\n",
    "    return int(bin_str, 2)\n",
    "\n",
    "def get_color(bin_str):\n",
    "    decimal = bin_to_decimal(bin_str)\n",
    "    return color_names[decimal % len(color_names)]\n",
    "\n",
    "def get_shape(bin_str):\n",
    "    decimal = bin_to_decimal(bin_str)\n",
    "    return shape_names[decimal % len(shape_names)]"
   ]
  },
  {
   "cell_type": "code",
   "execution_count": 40,
   "id": "7ed0d0d8-1976-4e3c-8973-90fda310e8c2",
   "metadata": {},
   "outputs": [],
   "source": [
    "file_name = PATHS['graphs'] / f'graph_data_N{N:d}s{s:d}.json'\n",
    "with open(file_name, 'r') as f:\n",
    "  struct = json.load(f)\n",
    "#print(json.dumps(struct, indent = 2))"
   ]
  },
  {
   "cell_type": "code",
   "execution_count": 41,
   "id": "5f8341ae-605f-4483-9a8e-d23f4ea7180d",
   "metadata": {},
   "outputs": [],
   "source": [
    "Npat = 0\n",
    "edges = []\n",
    "e_colors = {}\n",
    "n_colors = {}\n",
    "n_shapes = {}\n",
    "for n1 in struct[Npat]:\n",
    "    n_colors[n1] = get_color(''.join(i for i in struct[Npat][n1][\"pattern\"]))\n",
    "    n_shapes[n1] = get_shape(''.join(i for i in struct[Npat][n1][\"pattern\"]))\n",
    "    for n2 in struct[Npat][str(n1)][\"neigh\"]:  \n",
    "        if len(struct[Npat][str(n1)][\"strat\"]) > 1:\n",
    "            edges.append((n2, n1))\n",
    "\n",
    "            copy_strat = False\n",
    "            if len(struct[Npat][str(n1)][\"strat\"]) == 2:\n",
    "                copy_strat = (struct[Npat][str(n1)][\"strat\"]['0'] == '0') and (struct[Npat][str(n1)][\"strat\"]['1'] == '1')\n",
    "                if copy_strat:\n",
    "                    e_colors[f'{n2}-{n1}'] = 'darkturquoise'\n",
    "                else:\n",
    "                    e_colors[f'{n2}-{n1}'] = 'black'\n",
    "            else:\n",
    "                e_colors[f'{n2}-{n1}'] = 'black'"
   ]
  },
  {
   "cell_type": "code",
   "execution_count": 42,
   "id": "50b2e392",
   "metadata": {},
   "outputs": [],
   "source": [
    "# print(edges)\n",
    "# print(e_colors)\n",
    "# print(n_colors)"
   ]
  },
  {
   "cell_type": "code",
   "execution_count": 43,
   "id": "0d1423f2",
   "metadata": {},
   "outputs": [
    {
     "data": {
      "text/plain": [
       "'coral'"
      ]
     },
     "execution_count": 43,
     "metadata": {},
     "output_type": "execute_result"
    }
   ],
   "source": [
    "n_colors['3']"
   ]
  },
  {
   "cell_type": "code",
   "execution_count": 44,
   "id": "c7b8b0d3-7566-4a89-97e0-45843faf9367",
   "metadata": {},
   "outputs": [],
   "source": [
    "DG = nx.DiGraph()\n",
    "DG.add_nodes_from([str(i) for i in range(N)])\n",
    "DG.add_edges_from(edges)\n",
    "for node in DG.nodes:\n",
    "    DG.nodes[node]['color'] = n_colors[node]"
   ]
  },
  {
   "cell_type": "code",
   "execution_count": 45,
   "id": "32a5f8cf",
   "metadata": {},
   "outputs": [
    {
     "data": {
      "text/plain": [
       "[('0', {'color': 'coral'}),\n",
       " ('1', {'color': 'goldenrod'}),\n",
       " ('2', {'color': 'goldenrod'}),\n",
       " ('3', {'color': 'coral'}),\n",
       " ('4', {'color': 'khaki'}),\n",
       " ('5', {'color': 'khaki'}),\n",
       " ('6', {'color': 'khaki'}),\n",
       " ('7', {'color': 'khaki'}),\n",
       " ('8', {'color': 'coral'}),\n",
       " ('9', {'color': 'goldenrod'}),\n",
       " ('10', {'color': 'goldenrod'}),\n",
       " ('11', {'color': 'coral'})]"
      ]
     },
     "execution_count": 45,
     "metadata": {},
     "output_type": "execute_result"
    }
   ],
   "source": [
    "list(DG.nodes(data=True))"
   ]
  },
  {
   "cell_type": "code",
   "execution_count": 46,
   "id": "d480b7d8-3bac-4d5d-bfe5-167c779863aa",
   "metadata": {},
   "outputs": [
    {
     "name": "stdout",
     "output_type": "stream",
     "text": [
      "Warning: When  cdn_resources is 'local' jupyter notebook has issues displaying graphics on chrome/safari. Use cdn_resources='in_line' or cdn_resources='remote' if you have issues viewing graphics in a notebook.\n"
     ]
    }
   ],
   "source": [
    "dnet = Network(\"400px\",\"400px\",notebook=True,directed=True)\n",
    "dnet.from_nx(DG)\n",
    "for edge in dnet.edges:\n",
    "    edge['color'] = e_colors[f\"{edge['from']}-{edge['to']}\"]\n",
    "for node in dnet.nodes:\n",
    "    node['color'] = {'background': n_colors[node['id']], 'border': 'black'}\n",
    "    node['shape'] = n_shapes[node['id']]"
   ]
  },
  {
   "cell_type": "code",
   "execution_count": 47,
   "id": "722770c0",
   "metadata": {},
   "outputs": [
    {
     "name": "stdout",
     "output_type": "stream",
     "text": [
      "/home/carlos/Documents/Information/edgar_german/repo/alternation_EFP/data/html/graph_N12s4.html\n"
     ]
    },
    {
     "data": {
      "text/html": [
       "\n",
       "        <iframe\n",
       "            width=\"400px\"\n",
       "            height=\"400px\"\n",
       "            src=\"/home/carlos/Documents/Information/edgar_german/repo/alternation_EFP/data/html/graph_N12s4.html\"\n",
       "            frameborder=\"0\"\n",
       "            allowfullscreen\n",
       "            \n",
       "        ></iframe>\n",
       "        "
      ],
      "text/plain": [
       "<IPython.lib.display.IFrame at 0x7c34301e50c0>"
      ]
     },
     "execution_count": 47,
     "metadata": {},
     "output_type": "execute_result"
    }
   ],
   "source": [
    "out_file = PATHS['html'] / f'graph_N{N:d}s{s:d}.html'\n",
    "dnet.toggle_physics(True)\n",
    "dnet.show(str(out_file))"
   ]
  },
  {
   "cell_type": "markdown",
   "id": "722cc8be",
   "metadata": {},
   "source": [
    "### Cycles"
   ]
  },
  {
   "cell_type": "code",
   "execution_count": 48,
   "id": "ead3451c",
   "metadata": {},
   "outputs": [
    {
     "name": "stdout",
     "output_type": "stream",
     "text": [
      "Number of simple cycles: 2\n",
      "4 -> 8 -> 10\n",
      "3 -> 9 -> 6\n"
     ]
    }
   ],
   "source": [
    "# Detect simple cycles\n",
    "cycles = list(nx.simple_cycles(DG))\n",
    "print(f\"Number of simple cycles: {len(cycles)}\")\n",
    "for cycle in cycles:\n",
    "    print(\" -> \".join(cycle))"
   ]
  },
  {
   "cell_type": "code",
   "execution_count": 49,
   "id": "3b352873",
   "metadata": {},
   "outputs": [
    {
     "name": "stdout",
     "output_type": "stream",
     "text": [
      "Cycle 0: 1 ones, Pattern: 4 -> 8 -> 10\n",
      "Cycle 1: 1 ones, Pattern: 3 -> 9 -> 6\n"
     ]
    }
   ],
   "source": [
    "# Number of 1s in the cycles\n",
    "for c in range(len(cycles)):\n",
    "    cycle = cycles[c]\n",
    "    ones_count = 0\n",
    "    for i in cycle:\n",
    "        ones_count += int(struct[Npat][i][\"pattern\"][0])\n",
    "    print(f\"Cycle {c}: {ones_count} ones, Pattern: {' -> '.join(cycle)}\")"
   ]
  },
  {
   "cell_type": "code",
   "execution_count": 50,
   "id": "43834b6d",
   "metadata": {},
   "outputs": [
    {
     "data": {
      "text/plain": [
       "10"
      ]
     },
     "execution_count": 50,
     "metadata": {},
     "output_type": "execute_result"
    }
   ],
   "source": [
    "len(struct)"
   ]
  },
  {
   "cell_type": "code",
   "execution_count": null,
   "id": "6def345b",
   "metadata": {},
   "outputs": [],
   "source": [
    "for Np in range(len(struct)):\n",
    "    for i in range(N):\n",
    "        struct[Np][str(i)]['cycle'] = -1\n",
    "        struct[Np][str(i)]['ones in cycle'] = 0\n",
    "        for c in range(len(cycles)):\n",
    "            if str(i) in cycles[c]:\n",
    "                struct[Np][str(i)]['cycle'] = c\n",
    "                struct[Np][str(i)]['ones in cycle'] = sum(int(struct[Np][j][\"pattern\"][0]) for j in cycles[c])\n",
    "                break\n",
    "        #print(struct[Np][str(i)])\n"
   ]
  },
  {
   "cell_type": "code",
   "execution_count": 52,
   "id": "4c9c7fd4",
   "metadata": {},
   "outputs": [],
   "source": [
    "graph_path = PATHS['graphs'] / f\"graph_data_N{N:d}s{s:d}.json\"\n",
    "with open(graph_path, 'w') as json_file:\n",
    "    json.dump(struct, json_file)"
   ]
  }
 ],
 "metadata": {
  "kernelspec": {
   "display_name": "venv",
   "language": "python",
   "name": "venv"
  },
  "language_info": {
   "codemirror_mode": {
    "name": "ipython",
    "version": 3
   },
   "file_extension": ".py",
   "mimetype": "text/x-python",
   "name": "python",
   "nbconvert_exporter": "python",
   "pygments_lexer": "ipython3",
   "version": "3.10.12"
  }
 },
 "nbformat": 4,
 "nbformat_minor": 5
}
