{
 "cells": [
  {
   "cell_type": "code",
   "execution_count": 1,
   "id": "6f269447",
   "metadata": {},
   "outputs": [],
   "source": [
    "import sys\n",
    "\n",
    "sys.path.append('../src')\n",
    "\n",
    "from config.config import PATHS\n",
    "\n",
    "from analysis.av_entropy import EntropyAnalyzer"
   ]
  },
  {
   "cell_type": "code",
   "execution_count": 2,
   "id": "18553222",
   "metadata": {},
   "outputs": [],
   "source": [
    "ea = EntropyAnalyzer()"
   ]
  },
  {
   "cell_type": "code",
   "execution_count": 3,
   "id": "ac845858",
   "metadata": {},
   "outputs": [
    {
     "data": {
      "text/plain": [
       "([2.4285714285714284, 2.4285714285714284, 2.4285714285714284],\n",
       " [np.float64(2.0572551771154926),\n",
       "  np.float64(2.0826656362550136),\n",
       "  np.float64(2.0826656362550136)])"
      ]
     },
     "execution_count": 3,
     "metadata": {},
     "output_type": "execute_result"
    }
   ],
   "source": [
    "ea.compute_entropy_info(7,3)"
   ]
  }
 ],
 "metadata": {
  "kernelspec": {
   "display_name": "venv",
   "language": "python",
   "name": "venv"
  },
  "language_info": {
   "codemirror_mode": {
    "name": "ipython",
    "version": 3
   },
   "file_extension": ".py",
   "mimetype": "text/x-python",
   "name": "python",
   "nbconvert_exporter": "python",
   "pygments_lexer": "ipython3",
   "version": "3.10.12"
  }
 },
 "nbformat": 4,
 "nbformat_minor": 5
}
