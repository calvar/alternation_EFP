{
 "cells": [
  {
   "cell_type": "code",
   "execution_count": 4,
   "id": "cd4a6bd4",
   "metadata": {},
   "outputs": [],
   "source": [
    "import sys\n",
    "\n",
    "sys.path.append('../src')\n",
    "\n",
    "from config.config import PATHS\n",
    "\n",
    "from analysis.simulation import load_graph_data, simulate"
   ]
  },
  {
   "cell_type": "code",
   "execution_count": 5,
   "id": "d7a48154",
   "metadata": {},
   "outputs": [],
   "source": [
    "#load_graph_data(9, 3)"
   ]
  },
  {
   "cell_type": "code",
   "execution_count": 6,
   "id": "008dcdda",
   "metadata": {},
   "outputs": [
    {
     "data": {
      "text/plain": [
       "['011100000',\n",
       " '100001010',\n",
       " '000010101',\n",
       " '011100000',\n",
       " '100001010',\n",
       " '000010101',\n",
       " '011100000',\n",
       " '100001010',\n",
       " '001010101',\n",
       " '011100000',\n",
       " '101001010',\n",
       " '001010101',\n",
       " '011100000',\n",
       " '100001010',\n",
       " '000010101',\n",
       " '011100000',\n",
       " '100001010',\n",
       " '000010101',\n",
       " '011100000',\n",
       " '100001010',\n",
       " '000010101',\n",
       " '011100000',\n",
       " '100001010',\n",
       " '000010101',\n",
       " '011100000',\n",
       " '100001010',\n",
       " '000010101',\n",
       " '011100000',\n",
       " '100001010',\n",
       " '000010101',\n",
       " '011100000']"
      ]
     },
     "execution_count": 6,
     "metadata": {},
     "output_type": "execute_result"
    }
   ],
   "source": [
    "simulate(9, 3, 0, 30, 7, 5, 2)"
   ]
  }
 ],
 "metadata": {
  "kernelspec": {
   "display_name": "venv",
   "language": "python",
   "name": "venv"
  },
  "language_info": {
   "codemirror_mode": {
    "name": "ipython",
    "version": 3
   },
   "file_extension": ".py",
   "mimetype": "text/x-python",
   "name": "python",
   "nbconvert_exporter": "python",
   "pygments_lexer": "ipython3",
   "version": "3.10.12"
  }
 },
 "nbformat": 4,
 "nbformat_minor": 5
}
