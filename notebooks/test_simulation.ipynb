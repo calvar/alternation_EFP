{
 "cells": [
  {
   "cell_type": "code",
   "execution_count": 53,
   "id": "cd4a6bd4",
   "metadata": {},
   "outputs": [],
   "source": [
    "import sys\n",
    "\n",
    "sys.path.append('../src')\n",
    "\n",
    "from config.config import PATHS\n",
    "\n",
    "from analysis.simulation import load_graph_data, simulate"
   ]
  },
  {
   "cell_type": "code",
   "execution_count": 54,
   "id": "d7a48154",
   "metadata": {},
   "outputs": [],
   "source": [
    "#load_graph_data(9, 3)"
   ]
  },
  {
   "cell_type": "code",
   "execution_count": 55,
   "id": "008dcdda",
   "metadata": {},
   "outputs": [
    {
     "data": {
      "text/plain": [
       "['1111100',\n",
       " '1111001',\n",
       " '1001111',\n",
       " '0011111',\n",
       " '0111110',\n",
       " '1110011',\n",
       " '1100111',\n",
       " '1111100',\n",
       " '1111001',\n",
       " '1000111',\n",
       " '0111101',\n",
       " '1111101',\n",
       " '1111101',\n",
       " '1111101',\n",
       " '1111101',\n",
       " '1111101',\n",
       " '1111101',\n",
       " '1111101',\n",
       " '1111101',\n",
       " '1111101',\n",
       " '1111101',\n",
       " '1111101',\n",
       " '1111101',\n",
       " '1111101',\n",
       " '1111101',\n",
       " '1111101',\n",
       " '1111101',\n",
       " '1111101',\n",
       " '1111101',\n",
       " '1111101',\n",
       " '1111101']"
      ]
     },
     "execution_count": 55,
     "metadata": {},
     "output_type": "execute_result"
    }
   ],
   "source": [
    "simulate(\n",
    "    n=7, \n",
    "    s=5, \n",
    "    idx=2, \n",
    "    Nsteps=30, \n",
    "    #init_cond='1010111',\n",
    "    down_time=8, \n",
    "    down_lapse=1, \n",
    "    down_agent=3\n",
    "    )"
   ]
  }
 ],
 "metadata": {
  "kernelspec": {
   "display_name": "venv",
   "language": "python",
   "name": "venv"
  },
  "language_info": {
   "codemirror_mode": {
    "name": "ipython",
    "version": 3
   },
   "file_extension": ".py",
   "mimetype": "text/x-python",
   "name": "python",
   "nbconvert_exporter": "python",
   "pygments_lexer": "ipython3",
   "version": "3.10.12"
  }
 },
 "nbformat": 4,
 "nbformat_minor": 5
}
