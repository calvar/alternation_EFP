{
 "cells": [
  {
   "cell_type": "code",
   "execution_count": 1,
   "id": "cd4a6bd4",
   "metadata": {},
   "outputs": [],
   "source": [
    "import sys\n",
    "\n",
    "sys.path.append('../src')\n",
    "\n",
    "from config.config import PATHS\n",
    "\n",
    "from analysis.simulation import load_graph_data, simulate"
   ]
  },
  {
   "cell_type": "code",
   "execution_count": 2,
   "id": "d7a48154",
   "metadata": {},
   "outputs": [],
   "source": [
    "#load_graph_data(9, 3)"
   ]
  },
  {
   "cell_type": "code",
   "execution_count": 3,
   "id": "008dcdda",
   "metadata": {},
   "outputs": [
    {
     "data": {
      "text/plain": [
       "['1111100',\n",
       " '1110011',\n",
       " '1001111',\n",
       " '0111110',\n",
       " '1111001',\n",
       " '1100111',\n",
       " '0011111',\n",
       " '1111100',\n",
       " '1110011',\n",
       " '1001111',\n",
       " '0111110',\n",
       " '1111001',\n",
       " '1100111',\n",
       " '0011111',\n",
       " '1111100',\n",
       " '1110011',\n",
       " '1001101',\n",
       " '0110110',\n",
       " '1011001',\n",
       " '1100110',\n",
       " '0011011',\n",
       " '1101100',\n",
       " '0110011',\n",
       " '1001101',\n",
       " '0110110',\n",
       " '1011001',\n",
       " '1100110',\n",
       " '0011011',\n",
       " '1101100',\n",
       " '0110011',\n",
       " '1001101']"
      ]
     },
     "execution_count": 3,
     "metadata": {},
     "output_type": "execute_result"
    }
   ],
   "source": [
    "simulate(7, 5, 0, 30, 15, 5, 5)"
   ]
  }
 ],
 "metadata": {
  "kernelspec": {
   "display_name": "venv",
   "language": "python",
   "name": "venv"
  },
  "language_info": {
   "codemirror_mode": {
    "name": "ipython",
    "version": 3
   },
   "file_extension": ".py",
   "mimetype": "text/x-python",
   "name": "python",
   "nbconvert_exporter": "python",
   "pygments_lexer": "ipython3",
   "version": "3.10.12"
  }
 },
 "nbformat": 4,
 "nbformat_minor": 5
}
