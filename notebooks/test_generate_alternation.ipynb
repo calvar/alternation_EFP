{
 "cells": [
  {
   "cell_type": "markdown",
   "id": "2473c697",
   "metadata": {},
   "source": [
    "# Test alternation algorithm"
   ]
  },
  {
   "cell_type": "code",
   "execution_count": 3,
   "id": "b284dc70",
   "metadata": {},
   "outputs": [],
   "source": [
    "import numpy as np\n",
    "\n",
    "from pprint import pprint\n",
    "\n",
    "import sys\n",
    "\n",
    "sys.path.append('../src')\n",
    "\n",
    "from config.config import PATHS\n",
    "from patterns.alternations import PatternGenerator"
   ]
  },
  {
   "cell_type": "code",
   "execution_count": 4,
   "id": "93abcaa6",
   "metadata": {},
   "outputs": [
    {
     "name": "stdout",
     "output_type": "stream",
     "text": [
      "{0: ['1', '0', '1', '0', '1', '0', '0'],\n",
      " 1: ['1', '0', '1', '0', '0', '1', '0'],\n",
      " 2: ['1', '0', '0', '1', '0', '1', '0'],\n",
      " 3: ['0', '1', '0', '1', '0', '1', '0'],\n",
      " 4: ['0', '1', '0', '1', '0', '0', '1'],\n",
      " 5: ['0', '1', '0', '0', '1', '0', '1'],\n",
      " 6: ['0', '0', '1', '0', '1', '0', '1']}\n"
     ]
    }
   ],
   "source": [
    "rng = np.random.default_rng(42)\n",
    "\n",
    "gen = PatternGenerator(\n",
    "    N=7,\n",
    "    step=3,\n",
    "    num_patterns=3,\n",
    "    permute_columns=False,\n",
    "    permute_rows=True,\n",
    "    rng=rng\n",
    ")\n",
    "pattern = gen.generate()\n",
    "\n",
    "pprint(pattern)\n"
   ]
  },
  {
   "cell_type": "code",
   "execution_count": 6,
   "id": "b5184fe8",
   "metadata": {},
   "outputs": [
    {
     "data": {
      "text/plain": [
       "[{0: ['0', '0', '1', '1', '1', '0', '0'],\n",
       "  1: ['0', '0', '1', '0', '1', '1', '0'],\n",
       "  2: ['0', '1', '0', '0', '1', '1', '0'],\n",
       "  3: ['1', '1', '0', '0', '0', '1', '0'],\n",
       "  4: ['1', '1', '0', '0', '0', '0', '1'],\n",
       "  5: ['1', '0', '0', '1', '0', '0', '1'],\n",
       "  6: ['0', '0', '1', '1', '0', '0', '1']},\n",
       " {0: ['0', '1', '0', '0', '1', '1', '0'],\n",
       "  1: ['0', '1', '0', '1', '0', '1', '0'],\n",
       "  2: ['1', '0', '0', '1', '0', '1', '0'],\n",
       "  3: ['1', '0', '1', '1', '0', '0', '0'],\n",
       "  4: ['1', '0', '1', '0', '0', '0', '1'],\n",
       "  5: ['0', '0', '1', '0', '1', '0', '1'],\n",
       "  6: ['0', '1', '0', '0', '1', '0', '1']},\n",
       " {0: ['0', '0', '1', '1', '0', '1', '0'],\n",
       "  1: ['0', '0', '0', '1', '1', '1', '0'],\n",
       "  2: ['0', '1', '0', '1', '1', '0', '0'],\n",
       "  3: ['0', '1', '0', '0', '1', '0', '1'],\n",
       "  4: ['1', '1', '0', '0', '0', '0', '1'],\n",
       "  5: ['1', '0', '1', '0', '0', '0', '1'],\n",
       "  6: ['1', '0', '1', '0', '0', '1', '0']}]"
      ]
     },
     "execution_count": 6,
     "metadata": {},
     "output_type": "execute_result"
    }
   ],
   "source": [
    "gen.generate_many()"
   ]
  },
  {
   "cell_type": "code",
   "execution_count": 7,
   "id": "aec2070d",
   "metadata": {},
   "outputs": [],
   "source": [
    "#print(pat_dict)\n",
    "\n",
    "pattern_file = PATHS['patterns'] / 'patterns.json'\n",
    "\n",
    "gen.save(pattern_file)"
   ]
  },
  {
   "cell_type": "markdown",
   "id": "75873cdc",
   "metadata": {},
   "source": [
    "---"
   ]
  }
 ],
 "metadata": {
  "kernelspec": {
   "display_name": "Python 3 (ipykernel)",
   "language": "python",
   "name": "python3"
  },
  "language_info": {
   "codemirror_mode": {
    "name": "ipython",
    "version": 3
   },
   "file_extension": ".py",
   "mimetype": "text/x-python",
   "name": "python",
   "nbconvert_exporter": "python",
   "pygments_lexer": "ipython3",
   "version": "3.13.3"
  }
 },
 "nbformat": 4,
 "nbformat_minor": 5
}
