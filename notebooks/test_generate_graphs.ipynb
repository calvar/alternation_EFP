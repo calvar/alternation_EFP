{
 "cells": [
  {
   "cell_type": "markdown",
   "id": "3cea28ad",
   "metadata": {},
   "source": [
    "# Test generate graphs from pattern"
   ]
  },
  {
   "cell_type": "code",
   "execution_count": 1,
   "id": "6d440d8f",
   "metadata": {},
   "outputs": [],
   "source": [
    "import numpy as np\n",
    "\n",
    "import sys\n",
    "\n",
    "sys.path.append('../src')\n",
    "\n",
    "from config.config import PATHS\n",
    "from graphs.graph_creator import StrategyGraphBuilder"
   ]
  },
  {
   "cell_type": "code",
   "execution_count": 2,
   "id": "0bb4cf6c",
   "metadata": {},
   "outputs": [],
   "source": [
    "rng = np.random.default_rng(42)\n",
    "\n",
    "gb = StrategyGraphBuilder(rng)\n",
    "gb.build_graphs()"
   ]
  },
  {
   "cell_type": "code",
   "execution_count": 3,
   "id": "2048ad20",
   "metadata": {},
   "outputs": [
    {
     "data": {
      "text/plain": [
       "{'0': ['1', '1', '1', '0', '0', '0', '0'],\n",
       " '1': ['1', '0', '1', '0', '0', '1', '0'],\n",
       " '2': ['0', '0', '1', '0', '1', '1', '0'],\n",
       " '3': ['0', '0', '0', '0', '1', '1', '1'],\n",
       " '4': ['0', '0', '0', '1', '1', '0', '1'],\n",
       " '5': ['0', '1', '0', '1', '0', '0', '1'],\n",
       " '6': ['1', '1', '0', '1', '0', '0', '0']}"
      ]
     },
     "execution_count": 3,
     "metadata": {},
     "output_type": "execute_result"
    }
   ],
   "source": [
    "pat = gb.patterns[0]\n",
    "pat"
   ]
  },
  {
   "cell_type": "code",
   "execution_count": 4,
   "id": "81f7aec1",
   "metadata": {},
   "outputs": [
    {
     "data": {
      "text/plain": [
       "{'0': ['1', '1', '1', '0', '0', '0', '0'],\n",
       " '3': ['0', '0', '0', '0', '1', '1', '1']}"
      ]
     },
     "execution_count": 4,
     "metadata": {},
     "output_type": "execute_result"
    }
   ],
   "source": [
    "mask = [True, False, False, True, False, False, False]\n",
    "filtered = gb._filter_pattern(pat, mask)\n",
    "filtered"
   ]
  },
  {
   "cell_type": "code",
   "execution_count": 7,
   "id": "15b7b1ac",
   "metadata": {},
   "outputs": [
    {
     "data": {
      "text/plain": [
       "array([[0, 1, 2, 3, 4, 5, 6],\n",
       "       [0, 1, 2, 3, 4, 5, 6],\n",
       "       [0, 1, 2, 3, 4, 5, 6],\n",
       "       [0, 1, 2, 3, 4, 5, 6],\n",
       "       [0, 1, 2, 3, 4, 5, 6],\n",
       "       [0, 1, 2, 3, 4, 5, 6],\n",
       "       [0, 1, 2, 3, 4, 5, 6]])"
      ]
     },
     "execution_count": 7,
     "metadata": {},
     "output_type": "execute_result"
    }
   ],
   "source": [
    "mat = gb._neighbour_mats[0]\n",
    "mat"
   ]
  },
  {
   "cell_type": "code",
   "execution_count": 6,
   "id": "554ed28e",
   "metadata": {},
   "outputs": [
    {
     "data": {
      "text/plain": [
       "(('0', '2', '3'),\n",
       " {'100': '1', '110': '0', '000': '0', '011': '0', '001': '1'},\n",
       " {'100': 2, '110': 1, '000': 1, '011': 2, '001': 1})"
      ]
     },
     "execution_count": 6,
     "metadata": {},
     "output_type": "execute_result"
    }
   ],
   "source": [
    "gb._get_strategy(pat, 0, mat)"
   ]
  },
  {
   "cell_type": "markdown",
   "id": "9a7e59f0",
   "metadata": {},
   "source": [
    "---"
   ]
  }
 ],
 "metadata": {
  "kernelspec": {
   "display_name": "venv",
   "language": "python",
   "name": "venv"
  },
  "language_info": {
   "codemirror_mode": {
    "name": "ipython",
    "version": 3
   },
   "file_extension": ".py",
   "mimetype": "text/x-python",
   "name": "python",
   "nbconvert_exporter": "python",
   "pygments_lexer": "ipython3",
   "version": "3.10.12"
  }
 },
 "nbformat": 4,
 "nbformat_minor": 5
}
