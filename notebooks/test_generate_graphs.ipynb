{
 "cells": [
  {
   "cell_type": "markdown",
   "id": "3cea28ad",
   "metadata": {},
   "source": [
    "# Test generate graphs from pattern"
   ]
  },
  {
   "cell_type": "code",
   "execution_count": 9,
   "id": "6d440d8f",
   "metadata": {},
   "outputs": [],
   "source": [
    "import numpy as np\n",
    "\n",
    "import sys\n",
    "\n",
    "sys.path.append('../src')\n",
    "\n",
    "from config.config import PATHS\n",
    "from graphs.graph_creator import StrategyGraphBuilder"
   ]
  },
  {
   "cell_type": "code",
   "execution_count": 10,
   "id": "0bb4cf6c",
   "metadata": {},
   "outputs": [],
   "source": [
    "rng = np.random.default_rng(42)\n",
    "\n",
    "gb = StrategyGraphBuilder(rng)\n",
    "gb.build_graphs()"
   ]
  },
  {
   "cell_type": "code",
   "execution_count": 15,
   "id": "8ae11156",
   "metadata": {},
   "outputs": [
    {
     "data": {
      "text/plain": [
       "[array([[0, 1, 2],\n",
       "        [0, 1, 2],\n",
       "        [0, 1, 2]])]"
      ]
     },
     "execution_count": 15,
     "metadata": {},
     "output_type": "execute_result"
    }
   ],
   "source": [
    "mat = gb._neighbour_mats\n",
    "mat"
   ]
  },
  {
   "cell_type": "code",
   "execution_count": 12,
   "id": "2048ad20",
   "metadata": {},
   "outputs": [
    {
     "data": {
      "text/plain": [
       "{'0': ['1', '0', '0'], '1': ['0', '1', '0'], '2': ['0', '0', '1']}"
      ]
     },
     "execution_count": 12,
     "metadata": {},
     "output_type": "execute_result"
    }
   ],
   "source": [
    "pat = gb.patterns[0]\n",
    "pat"
   ]
  },
  {
   "cell_type": "code",
   "execution_count": 17,
   "id": "81f7aec1",
   "metadata": {},
   "outputs": [
    {
     "data": {
      "text/plain": [
       "{'0': ['1', '0', '0']}"
      ]
     },
     "execution_count": 17,
     "metadata": {},
     "output_type": "execute_result"
    }
   ],
   "source": [
    "mask = [True, False, False]\n",
    "filtered = gb._filter_pattern(pat, mask)\n",
    "filtered"
   ]
  },
  {
   "cell_type": "code",
   "execution_count": 16,
   "id": "554ed28e",
   "metadata": {},
   "outputs": [
    {
     "ename": "KeyError",
     "evalue": "'[0, 1, 2]'",
     "output_type": "error",
     "traceback": [
      "\u001b[31m---------------------------------------------------------------------------\u001b[39m",
      "\u001b[31mKeyError\u001b[39m                                  Traceback (most recent call last)",
      "\u001b[36mCell\u001b[39m\u001b[36m \u001b[39m\u001b[32mIn[16]\u001b[39m\u001b[32m, line 1\u001b[39m\n\u001b[32m----> \u001b[39m\u001b[32m1\u001b[39m \u001b[43mgb\u001b[49m\u001b[43m.\u001b[49m\u001b[43m_get_strategy\u001b[49m\u001b[43m(\u001b[49m\u001b[43mpat\u001b[49m\u001b[43m,\u001b[49m\u001b[43m \u001b[49m\u001b[32;43m0\u001b[39;49m\u001b[43m,\u001b[49m\u001b[43m \u001b[49m\u001b[43mmat\u001b[49m\u001b[43m)\u001b[49m\n",
      "\u001b[36mFile \u001b[39m\u001b[32m~/Documents/GitHub/alternation_EFP/notebooks/../src/graphs/graph_creator.py:125\u001b[39m, in \u001b[36mStrategyGraphBuilder._get_strategy\u001b[39m\u001b[34m(self, pattern, idx, neighbour_mat, shuffle)\u001b[39m\n\u001b[32m    122\u001b[39m consistent = \u001b[38;5;28;01mTrue\u001b[39;00m\n\u001b[32m    124\u001b[39m \u001b[38;5;28;01mfor\u001b[39;00m t \u001b[38;5;129;01min\u001b[39;00m \u001b[38;5;28mrange\u001b[39m(T):\n\u001b[32m--> \u001b[39m\u001b[32m125\u001b[39m     key = \u001b[33;43m\"\u001b[39;49m\u001b[33;43m\"\u001b[39;49m\u001b[43m.\u001b[49m\u001b[43mjoin\u001b[49m\u001b[43m(\u001b[49m\u001b[43mfiltered\u001b[49m\u001b[43m[\u001b[49m\u001b[38;5;28;43mstr\u001b[39;49m\u001b[43m(\u001b[49m\u001b[43mc\u001b[49m\u001b[43m)\u001b[49m\u001b[43m]\u001b[49m\u001b[43m[\u001b[49m\u001b[43mt\u001b[49m\u001b[43m]\u001b[49m\u001b[43m \u001b[49m\u001b[38;5;28;43;01mfor\u001b[39;49;00m\u001b[43m \u001b[49m\u001b[43mc\u001b[49m\u001b[43m \u001b[49m\u001b[38;5;129;43;01min\u001b[39;49;00m\u001b[43m \u001b[49m\u001b[43mcols_sorted\u001b[49m\u001b[43m)\u001b[49m\n\u001b[32m    126\u001b[39m     target = pattern[\u001b[38;5;28mstr\u001b[39m(idx)][(t + \u001b[32m1\u001b[39m) % T]\n\u001b[32m    128\u001b[39m     \u001b[38;5;28;01mif\u001b[39;00m key \u001b[38;5;129;01min\u001b[39;00m mapping:\n",
      "\u001b[36mFile \u001b[39m\u001b[32m~/Documents/GitHub/alternation_EFP/notebooks/../src/graphs/graph_creator.py:125\u001b[39m, in \u001b[36m<genexpr>\u001b[39m\u001b[34m(.0)\u001b[39m\n\u001b[32m    122\u001b[39m consistent = \u001b[38;5;28;01mTrue\u001b[39;00m\n\u001b[32m    124\u001b[39m \u001b[38;5;28;01mfor\u001b[39;00m t \u001b[38;5;129;01min\u001b[39;00m \u001b[38;5;28mrange\u001b[39m(T):\n\u001b[32m--> \u001b[39m\u001b[32m125\u001b[39m     key = \u001b[33m\"\u001b[39m\u001b[33m\"\u001b[39m.join(\u001b[43mfiltered\u001b[49m\u001b[43m[\u001b[49m\u001b[38;5;28;43mstr\u001b[39;49m\u001b[43m(\u001b[49m\u001b[43mc\u001b[49m\u001b[43m)\u001b[49m\u001b[43m]\u001b[49m[t] \u001b[38;5;28;01mfor\u001b[39;00m c \u001b[38;5;129;01min\u001b[39;00m cols_sorted)\n\u001b[32m    126\u001b[39m     target = pattern[\u001b[38;5;28mstr\u001b[39m(idx)][(t + \u001b[32m1\u001b[39m) % T]\n\u001b[32m    128\u001b[39m     \u001b[38;5;28;01mif\u001b[39;00m key \u001b[38;5;129;01min\u001b[39;00m mapping:\n",
      "\u001b[31mKeyError\u001b[39m: '[0, 1, 2]'"
     ]
    }
   ],
   "source": [
    "gb._get_strategy(pat, 0, mat)"
   ]
  },
  {
   "cell_type": "markdown",
   "id": "9a7e59f0",
   "metadata": {},
   "source": [
    "---"
   ]
  }
 ],
 "metadata": {
  "kernelspec": {
   "display_name": "Python 3 (ipykernel)",
   "language": "python",
   "name": "python3"
  },
  "language_info": {
   "codemirror_mode": {
    "name": "ipython",
    "version": 3
   },
   "file_extension": ".py",
   "mimetype": "text/x-python",
   "name": "python",
   "nbconvert_exporter": "python",
   "pygments_lexer": "ipython3",
   "version": "3.13.3"
  }
 },
 "nbformat": 4,
 "nbformat_minor": 5
}
