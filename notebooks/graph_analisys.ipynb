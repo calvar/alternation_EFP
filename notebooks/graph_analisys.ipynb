{
 "cells": [
  {
   "cell_type": "code",
   "execution_count": 1,
   "id": "05b5f2a2-f6a5-4749-99f1-2f5109cbeed5",
   "metadata": {},
   "outputs": [],
   "source": [
    "import numpy as np\n",
    "import json\n",
    "import random\n",
    "import networkx as nx\n",
    "from pyvis.network import Network\n",
    "import matplotlib.pyplot as plt\n",
    "import ipywidgets as widgets\n",
    "from IPython.display import display, clear_output\n",
    "\n",
    "import sys\n",
    "\n",
    "sys.path.append('../src')\n",
    "\n",
    "from config.config import PATHS"
   ]
  },
  {
   "cell_type": "code",
   "execution_count": 2,
   "id": "92c3bd1f-a17b-4ebe-bd70-b5fb610fbe46",
   "metadata": {},
   "outputs": [],
   "source": [
    "# No. of agents\n",
    "N = 7\n",
    "# No. of available spots\n",
    "s = 3"
   ]
  },
  {
   "cell_type": "code",
   "execution_count": 3,
   "id": "b39e4127",
   "metadata": {},
   "outputs": [],
   "source": [
    "import matplotlib.colors as mcolors\n",
    "named_colors = mcolors.CSS4_COLORS\n",
    "color_names = list(named_colors.keys())\n",
    "random.seed(1234)\n",
    "random.shuffle(color_names)\n",
    "shape_names = ['dot','diamond','square','triangle','star','triangleDown']\n",
    "\n",
    "def bin_to_decimal(bin_str):\n",
    "    return int(bin_str, 2)\n",
    "\n",
    "def get_color(bin_str):\n",
    "    decimal = bin_to_decimal(bin_str)\n",
    "    return color_names[decimal % len(color_names)]\n",
    "\n",
    "def get_shape(bin_str):\n",
    "    decimal = bin_to_decimal(bin_str)\n",
    "    return shape_names[decimal % len(shape_names)]"
   ]
  },
  {
   "cell_type": "code",
   "execution_count": 4,
   "id": "7ed0d0d8-1976-4e3c-8973-90fda310e8c2",
   "metadata": {},
   "outputs": [],
   "source": [
    "file_name = PATHS['graphs'] / f'graph_data_N{N:d}s{s:d}.json'\n",
    "with open(file_name, 'r') as f:\n",
    "  struct = json.load(f)\n",
    "#print(json.dumps(struct, indent = 2))"
   ]
  },
  {
   "cell_type": "code",
   "execution_count": 5,
   "id": "5f8341ae-605f-4483-9a8e-d23f4ea7180d",
   "metadata": {},
   "outputs": [],
   "source": [
    "Npat = 0\n",
    "edges = []\n",
    "e_colors = {}\n",
    "n_colors = {}\n",
    "n_shapes = {}\n",
    "for n1 in struct[Npat]:\n",
    "    n_colors[n1] = get_color(''.join(i for i in struct[Npat][n1][\"pattern\"]))\n",
    "    n_shapes[n1] = get_shape(''.join(i for i in struct[Npat][n1][\"pattern\"]))\n",
    "    for n2 in struct[Npat][str(n1)][\"neigh\"]:  \n",
    "        if len(struct[Npat][str(n1)][\"strat\"]) > 1:\n",
    "            edges.append((n2, n1))\n",
    "\n",
    "            copy_strat = False\n",
    "            if len(struct[Npat][str(n1)][\"strat\"]) == 2:\n",
    "                copy_strat = (struct[Npat][str(n1)][\"strat\"]['0'] == '0') and (struct[Npat][str(n1)][\"strat\"]['1'] == '1')\n",
    "                if copy_strat:\n",
    "                    e_colors[f'{n2}-{n1}'] = 'darkturquoise'\n",
    "                else:\n",
    "                    e_colors[f'{n2}-{n1}'] = 'black'\n",
    "            else:\n",
    "                e_colors[f'{n2}-{n1}'] = 'black'"
   ]
  },
  {
   "cell_type": "code",
   "execution_count": 6,
   "id": "50b2e392",
   "metadata": {},
   "outputs": [],
   "source": [
    "# print(edges)\n",
    "# print(e_colors)\n",
    "# print(n_colors)"
   ]
  },
  {
   "cell_type": "code",
   "execution_count": 7,
   "id": "0d1423f2",
   "metadata": {},
   "outputs": [
    {
     "data": {
      "text/plain": [
       "'slateblue'"
      ]
     },
     "execution_count": 7,
     "metadata": {},
     "output_type": "execute_result"
    }
   ],
   "source": [
    "n_colors['3']"
   ]
  },
  {
   "cell_type": "code",
   "execution_count": 8,
   "id": "c7b8b0d3-7566-4a89-97e0-45843faf9367",
   "metadata": {},
   "outputs": [],
   "source": [
    "DG = nx.DiGraph()\n",
    "DG.add_nodes_from([str(i) for i in range(N)])\n",
    "DG.add_edges_from(edges)\n",
    "for node in DG.nodes:\n",
    "    DG.nodes[node]['color'] = n_colors[node]"
   ]
  },
  {
   "cell_type": "code",
   "execution_count": 9,
   "id": "32a5f8cf",
   "metadata": {},
   "outputs": [
    {
     "data": {
      "text/plain": [
       "[('0', {'color': 'beige'}),\n",
       " ('1', {'color': 'lavender'}),\n",
       " ('2', {'color': 'ghostwhite'}),\n",
       " ('3', {'color': 'slateblue'}),\n",
       " ('4', {'color': 'peachpuff'}),\n",
       " ('5', {'color': 'darkmagenta'}),\n",
       " ('6', {'color': 'firebrick'})]"
      ]
     },
     "execution_count": 9,
     "metadata": {},
     "output_type": "execute_result"
    }
   ],
   "source": [
    "list(DG.nodes(data=True))"
   ]
  },
  {
   "cell_type": "code",
   "execution_count": 10,
   "id": "d480b7d8-3bac-4d5d-bfe5-167c779863aa",
   "metadata": {},
   "outputs": [
    {
     "name": "stdout",
     "output_type": "stream",
     "text": [
      "Warning: When  cdn_resources is 'local' jupyter notebook has issues displaying graphics on chrome/safari. Use cdn_resources='in_line' or cdn_resources='remote' if you have issues viewing graphics in a notebook.\n"
     ]
    }
   ],
   "source": [
    "dnet = Network(\"400px\",\"400px\",notebook=True,directed=True)\n",
    "dnet.from_nx(DG)\n",
    "for edge in dnet.edges:\n",
    "    edge['color'] = e_colors[f\"{edge['from']}-{edge['to']}\"]\n",
    "for node in dnet.nodes:\n",
    "    node['color'] = {'background': n_colors[node['id']], 'border': 'black'}\n",
    "    node['shape'] = n_shapes[node['id']]"
   ]
  },
  {
   "cell_type": "code",
   "execution_count": 12,
   "id": "722770c0",
   "metadata": {},
   "outputs": [
    {
     "name": "stdout",
     "output_type": "stream",
     "text": [
      "/home/carlos/Documents/Information/edgar_german/repo/alternation_EFP/data/html/graph_N7s3.html\n"
     ]
    },
    {
     "data": {
      "text/html": [
       "\n",
       "        <iframe\n",
       "            width=\"400px\"\n",
       "            height=\"400px\"\n",
       "            src=\"/home/carlos/Documents/Information/edgar_german/repo/alternation_EFP/data/html/graph_N7s3.html\"\n",
       "            frameborder=\"0\"\n",
       "            allowfullscreen\n",
       "            \n",
       "        ></iframe>\n",
       "        "
      ],
      "text/plain": [
       "<IPython.lib.display.IFrame at 0x7d9855c13eb0>"
      ]
     },
     "execution_count": 12,
     "metadata": {},
     "output_type": "execute_result"
    }
   ],
   "source": [
    "out_file = PATHS['html'] / f'graph_N{N:d}s{s:d}.html'\n",
    "dnet.toggle_physics(True)\n",
    "dnet.show(str(out_file))"
   ]
  },
  {
   "cell_type": "code",
   "execution_count": 206,
   "id": "aa4dcbd2-56c6-4677-a1c9-331e264ec4d9",
   "metadata": {},
   "outputs": [],
   "source": [
    "#degree = [len(list(DG.neighbors(str(i)))) for i in range(N)]\n",
    "#degree"
   ]
  },
  {
   "cell_type": "markdown",
   "id": "ba163d32",
   "metadata": {},
   "source": [
    "# Alternative ways to specify output folder for pyvis Network.show()\n",
    "\n",
    "## Method 1: Using pathlib (current approach - recommended)\n",
    "```python\n",
    "from pathlib import Path\n",
    "output_dir = Path(\"../data/html_outputs\")  # or any directory\n",
    "output_file = output_dir / f'graph_N{N:d}s{s:d}.html'\n",
    "dnet.show(output_file)\n",
    "```\n",
    "\n",
    "## Method 2: Using os.path\n",
    "```python\n",
    "import os\n",
    "output_dir = \"../data/html_outputs\"  # or any directory\n",
    "output_file = os.path.join(output_dir, f'graph_N{N:d}s{s:d}.html')\n",
    "dnet.show(output_file)\n",
    "```\n",
    "\n",
    "## Method 3: Simple string concatenation\n",
    "```python\n",
    "output_dir = \"../data/html_outputs/\"  # note the trailing slash\n",
    "output_file = f\"{output_dir}graph_N{N:d}s{s:d}.html\"\n",
    "dnet.show(output_file)\n",
    "```\n",
    "\n",
    "## Method 4: Absolute path\n",
    "```python\n",
    "output_file = \"/home/carlos/Documents/Information/edgar_german/repo/alternation_EFP/data/html_outputs/graph.html\"\n",
    "dnet.show(output_file)\n",
    "```"
   ]
  },
  {
   "cell_type": "code",
   "execution_count": null,
   "id": "3d22f330",
   "metadata": {},
   "outputs": [],
   "source": [
    "# Ensure output directory exists before saving\n",
    "output_dir = PATHS['html']\n",
    "output_dir.mkdir(parents=True, exist_ok=True)  # Create directory if it doesn't exist\n",
    "\n",
    "out_file = output_dir / f'graph_N{N:d}s{s:d}.html'\n",
    "print(f\"Saving graph to: {out_file}\")\n",
    "\n",
    "# Your existing code works perfectly:\n",
    "dnet.show(out_file)"
   ]
  }
 ],
 "metadata": {
  "kernelspec": {
   "display_name": "venv",
   "language": "python",
   "name": "venv"
  },
  "language_info": {
   "codemirror_mode": {
    "name": "ipython",
    "version": 3
   },
   "file_extension": ".py",
   "mimetype": "text/x-python",
   "name": "python",
   "nbconvert_exporter": "python",
   "pygments_lexer": "ipython3",
   "version": "3.10.12"
  }
 },
 "nbformat": 4,
 "nbformat_minor": 5
}
