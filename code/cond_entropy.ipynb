{
 "cells": [
  {
   "cell_type": "code",
   "execution_count": 55,
   "id": "72a7b4a4",
   "metadata": {},
   "outputs": [],
   "source": [
    "import numpy as np\n",
    "import matplotlib.pyplot as plt\n",
    "import json"
   ]
  },
  {
   "cell_type": "markdown",
   "id": "67b7a398",
   "metadata": {},
   "source": [
    "Compute the conditional entropy of the patterns\n",
    "$$\\begin{align}\n",
    "    H(x_{t}|x_{t-1})&=-\\sum_{(x_{t},x_{t-1})}p(x_{t},x_{t-1})\\log_2\\left(p(x_{t}|x_{t-1})\\right)\\nonumber\\\\\n",
    "    &=-\\sum_{(x_{t},x_{t-1})}p(x_{t},x_{t-1})\\log_2\\left(\\frac{p(x_{t},x_{t-1})}{p(x_{t-1})}\\right)\\nonumber\\\\\n",
    "    &=H(x_{t},x_{t-1})-H(x_{t-1}),\n",
    "\\end{align}$$\n",
    "where $x_t$ is the state of the agent at time $t$.\n",
    "\n"
   ]
  },
  {
   "cell_type": "code",
   "execution_count": 56,
   "id": "2cb9a335",
   "metadata": {},
   "outputs": [],
   "source": [
    "# No. of agents\n",
    "N = 11\n",
    "# No. of available spots\n",
    "s = 5"
   ]
  },
  {
   "cell_type": "code",
   "execution_count": 57,
   "id": "9d9f065a",
   "metadata": {},
   "outputs": [],
   "source": [
    "with open(f'graph_data_N{N:d}s{s:d}.json', 'r') as f:\n",
    "  struct = json.load(f)"
   ]
  },
  {
   "cell_type": "code",
   "execution_count": 58,
   "id": "c16a993f",
   "metadata": {},
   "outputs": [
    {
     "data": {
      "text/plain": [
       "{'0': {'pattern': ['0', '1', '1', '0', '1', '1', '0', '0', '1', '0', '0'],\n",
       "  'neigh': ['0', '2', '4', '8'],\n",
       "  'strat': {'0001': '1',\n",
       "   '1110': '1',\n",
       "   '1001': '0',\n",
       "   '0011': '1',\n",
       "   '1000': '1',\n",
       "   '0110': '0',\n",
       "   '1100': '0'}},\n",
       " '1': {'pattern': ['0', '1', '0', '0', '1', '1', '1', '0', '1', '0', '0'],\n",
       "  'neigh': ['0', '1', '2'],\n",
       "  'strat': {'000': '1',\n",
       "   '111': '0',\n",
       "   '100': '0',\n",
       "   '110': '1',\n",
       "   '011': '0',\n",
       "   '001': '0'}},\n",
       " '2': {'pattern': ['0', '1', '0', '0', '0', '0', '1', '0', '1', '1', '1'],\n",
       "  'neigh': ['0', '1', '2', '4', '9'],\n",
       "  'strat': {'00000': '1',\n",
       "   '11111': '0',\n",
       "   '10000': '0',\n",
       "   '00010': '0',\n",
       "   '11001': '0',\n",
       "   '11000': '1',\n",
       "   '01111': '0',\n",
       "   '11101': '1',\n",
       "   '00111': '1',\n",
       "   '00110': '0'}},\n",
       " '3': {'pattern': ['1', '0', '0', '1', '0', '0', '0', '1', '0', '1', '1'],\n",
       "  'neigh': ['0', '1', '2', '4'],\n",
       "  'strat': {'0000': '0',\n",
       "   '1111': '0',\n",
       "   '1000': '1',\n",
       "   '0001': '0',\n",
       "   '1100': '0',\n",
       "   '0111': '1',\n",
       "   '1110': '1',\n",
       "   '0011': '1'}},\n",
       " '4': {'pattern': ['0', '1', '0', '1', '0', '0', '1', '0', '0', '1', '1'],\n",
       "  'neigh': ['3', '6', '9', '10'],\n",
       "  'strat': {'1100': '1',\n",
       "   '0010': '0',\n",
       "   '0101': '1',\n",
       "   '1000': '0',\n",
       "   '0111': '0',\n",
       "   '1101': '0',\n",
       "   '0011': '1',\n",
       "   '1010': '1'}},\n",
       " '5': {'pattern': ['1', '0', '0', '1', '0', '0', '1', '0', '0', '1', '1'],\n",
       "  'neigh': ['2', '3', '4', '8'],\n",
       "  'strat': {'0101': '0',\n",
       "   '1010': '0',\n",
       "   '0001': '1',\n",
       "   '0111': '0',\n",
       "   '0000': '0',\n",
       "   '1000': '1',\n",
       "   '1110': '1'}},\n",
       " '6': {'pattern': ['1', '0', '1', '0', '1', '1', '0', '1', '0', '0', '0'],\n",
       "  'neigh': ['1', '2', '4', '9'],\n",
       "  'strat': {'0000': '0',\n",
       "   '1111': '1',\n",
       "   '0010': '1',\n",
       "   '1001': '1',\n",
       "   '1000': '0',\n",
       "   '1101': '0',\n",
       "   '0111': '0',\n",
       "   '0110': '1'}},\n",
       " '7': {'pattern': ['1', '0', '1', '1', '0', '0', '0', '1', '0', '0', '1'],\n",
       "  'neigh': ['0', '1', '2', '4'],\n",
       "  'strat': {'0000': '0',\n",
       "   '1111': '1',\n",
       "   '1000': '1',\n",
       "   '0001': '0',\n",
       "   '1100': '0',\n",
       "   '0111': '1',\n",
       "   '1110': '0',\n",
       "   '0011': '1'}},\n",
       " '8': {'pattern': ['1', '0', '1', '1', '0', '1', '0', '1', '0', '0', '0'],\n",
       "  'neigh': ['0', '1', '2', '4', '9'],\n",
       "  'strat': {'00000': '0',\n",
       "   '11111': '1',\n",
       "   '10000': '1',\n",
       "   '00010': '0',\n",
       "   '11001': '1',\n",
       "   '11000': '0',\n",
       "   '01111': '1',\n",
       "   '11101': '0',\n",
       "   '00111': '0',\n",
       "   '00110': '1'}},\n",
       " '9': {'pattern': ['0', '1', '0', '0', '1', '0', '1', '0', '1', '1', '0'],\n",
       "  'neigh': ['0', '1', '2', '4', '8'],\n",
       "  'strat': {'00001': '1',\n",
       "   '11110': '0',\n",
       "   '10001': '0',\n",
       "   '00011': '1',\n",
       "   '11000': '0',\n",
       "   '11001': '1',\n",
       "   '01110': '0',\n",
       "   '11100': '1',\n",
       "   '00110': '0'}},\n",
       " '10': {'pattern': ['0', '0', '1', '0', '1', '1', '0', '1', '1', '0', '0'],\n",
       "  'neigh': ['3', '6', '8', '10'],\n",
       "  'strat': {'1110': '0',\n",
       "   '0000': '1',\n",
       "   '0111': '0',\n",
       "   '1010': '1',\n",
       "   '0101': '1',\n",
       "   '1111': '1',\n",
       "   '0001': '0',\n",
       "   '1000': '0'}}}"
      ]
     },
     "execution_count": 58,
     "metadata": {},
     "output_type": "execute_result"
    }
   ],
   "source": [
    "struct"
   ]
  },
  {
   "cell_type": "code",
   "execution_count": 59,
   "id": "b6148e09",
   "metadata": {},
   "outputs": [],
   "source": [
    "def distribution(pattern):\n",
    "    freqs = {}\n",
    "    for i in range(len(pattern)):\n",
    "        x_t = pattern[i]\n",
    "        freqs[x_t] = freqs.get(x_t, 0) + 1\n",
    "    \n",
    "    joint_freqs = {}\n",
    "    for i in range(len(pattern) - 1):\n",
    "        x_t = pattern[i + 1]\n",
    "        x_t_1 = pattern[i]\n",
    "        joint_freqs[x_t+x_t_1] = joint_freqs.get(x_t+x_t_1, 0) + 1\n",
    "    x_t = pattern[0]\n",
    "    x_t_1 = pattern[len(pattern)-1]\n",
    "    joint_freqs[x_t+x_t_1] = joint_freqs.get(x_t+x_t_1, 0) + 1\n",
    "\n",
    "    for k in freqs:\n",
    "        freqs[k] /= len(pattern)\n",
    "    for k in joint_freqs:\n",
    "        joint_freqs[k] /= len(pattern)\n",
    "\n",
    "    return freqs, joint_freqs\n",
    "\n",
    "def cond_entropy(pattern):\n",
    "    dist, joint_dist = distribution(pattern)\n",
    "    H_X = -sum(p * np.log2(p) for p in dist.values() if p > 0)\n",
    "    H_X_Y = -sum(p * np.log2(p) for p in joint_dist.values() if p > 0)\n",
    "    return H_X_Y - H_X"
   ]
  },
  {
   "cell_type": "code",
   "execution_count": 60,
   "id": "c01fc92b",
   "metadata": {},
   "outputs": [
    {
     "name": "stdout",
     "output_type": "stream",
     "text": [
      "agent: 0, cond_ent: 0.987, n_neigh: 4\n",
      "agent: 1, cond_ent: 0.987, n_neigh: 3\n",
      "agent: 2, cond_ent: 0.987, n_neigh: 5\n",
      "agent: 3, cond_ent: 0.987, n_neigh: 4\n",
      "agent: 4, cond_ent: 0.829, n_neigh: 4\n",
      "agent: 5, cond_ent: 0.987, n_neigh: 4\n",
      "agent: 6, cond_ent: 0.829, n_neigh: 4\n",
      "agent: 7, cond_ent: 0.987, n_neigh: 4\n",
      "agent: 8, cond_ent: 0.829, n_neigh: 5\n",
      "agent: 9, cond_ent: 0.829, n_neigh: 5\n",
      "agent: 10, cond_ent: 0.987, n_neigh: 4\n"
     ]
    }
   ],
   "source": [
    "for st in struct:\n",
    "    cond_ent = cond_entropy(struct[st]['pattern'])\n",
    "    n_neigh = len(struct[st]['neigh'])\n",
    "\n",
    "    print(f'agent: {st}, cond_ent: {cond_ent:0.3f}, n_neigh: {n_neigh}')"
   ]
  },
  {
   "cell_type": "markdown",
   "id": "fbc11714",
   "metadata": {},
   "source": [
    "agent: 0, cond_ent: 0.987, n_neigh: 4\n",
    "\n",
    "agent: 1, cond_ent: 0.829, n_neigh: 3\n",
    "\n",
    "agent: 2, cond_ent: 0.355, n_neigh: 3\n",
    "\n",
    "agent: 3, cond_ent: 0.987, n_neigh: 4\n",
    "\n",
    "agent: 4, cond_ent: 0.355, n_neigh: 1\n",
    "\n",
    "agent: 5, cond_ent: 0.355, n_neigh: 1\n",
    "\n",
    "agent: 6, cond_ent: 0.829, n_neigh: 3\n",
    "\n",
    "agent: 7, cond_ent: 0.829, n_neigh: 3\n",
    "\n",
    "agent: 8, cond_ent: 0.829, n_neigh: 3\n",
    "\n",
    "agent: 9, cond_ent: 0.355, n_neigh: 3\n",
    "\n",
    "agent: 10, cond_ent: 0.829, n_neigh: 3"
   ]
  },
  {
   "cell_type": "code",
   "execution_count": 61,
   "id": "099bc387",
   "metadata": {},
   "outputs": [
    {
     "data": {
      "text/plain": [
       "9.86"
      ]
     },
     "execution_count": 61,
     "metadata": {},
     "output_type": "execute_result"
    }
   ],
   "source": [
    "0.986*10"
   ]
  }
 ],
 "metadata": {
  "kernelspec": {
   "display_name": "venv",
   "language": "python",
   "name": "python3"
  },
  "language_info": {
   "codemirror_mode": {
    "name": "ipython",
    "version": 3
   },
   "file_extension": ".py",
   "mimetype": "text/x-python",
   "name": "python",
   "nbconvert_exporter": "python",
   "pygments_lexer": "ipython3",
   "version": "3.12.3"
  }
 },
 "nbformat": 4,
 "nbformat_minor": 5
}
