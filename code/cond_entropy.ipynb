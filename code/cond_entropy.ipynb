{
 "cells": [
  {
   "cell_type": "code",
   "execution_count": 32,
   "id": "72a7b4a4",
   "metadata": {},
   "outputs": [],
   "source": [
    "import numpy as np\n",
    "import matplotlib.pyplot as plt\n",
    "import json"
   ]
  },
  {
   "cell_type": "markdown",
   "id": "67b7a398",
   "metadata": {},
   "source": [
    "Compute the conditional entropy of the patterns\n",
    "$$\\begin{align}\n",
    "    H(x_{t}|x_{t-1})&=-\\sum_{(x_{t},x_{t-1})}p(x_{t},x_{t-1})\\log_2\\left(p(x_{t}|x_{t-1})\\right)\\nonumber\\\\\n",
    "    &=-\\sum_{(x_{t},x_{t-1})}p(x_{t},x_{t-1})\\log_2\\left(\\frac{p(x_{t},x_{t-1})}{p(x_{t-1})}\\right)\\nonumber\\\\\n",
    "    &=H(x_{t},x_{t-1})-H(x_{t-1}),\n",
    "\\end{align}$$\n",
    "where $x_t$ is the state of the agent at time $t$.\n",
    "\n"
   ]
  },
  {
   "cell_type": "code",
   "execution_count": 33,
   "id": "2cb9a335",
   "metadata": {},
   "outputs": [],
   "source": [
    "# No. of agents\n",
    "N = 8\n",
    "# No. of available spots\n",
    "s = 4"
   ]
  },
  {
   "cell_type": "code",
   "execution_count": 34,
   "id": "9d9f065a",
   "metadata": {},
   "outputs": [],
   "source": [
    "with open(f'graph_data_N{N:d}s{s:d}.json', 'r') as f:\n",
    "  struct = json.load(f)\n",
    "#struct"
   ]
  },
  {
   "cell_type": "code",
   "execution_count": 35,
   "id": "b6148e09",
   "metadata": {},
   "outputs": [],
   "source": [
    "def distribution(pattern):\n",
    "    freqs = {}\n",
    "    for i in range(len(pattern)):\n",
    "        x_t = pattern[i]\n",
    "        freqs[x_t] = freqs.get(x_t, 0) + 1\n",
    "    \n",
    "    joint_freqs = {}\n",
    "    for i in range(len(pattern) - 1):\n",
    "        x_t = pattern[i + 1]\n",
    "        x_t_1 = pattern[i]\n",
    "        joint_freqs[x_t+x_t_1] = joint_freqs.get(x_t+x_t_1, 0) + 1\n",
    "    x_t = pattern[0]\n",
    "    x_t_1 = pattern[len(pattern)-1]\n",
    "    joint_freqs[x_t+x_t_1] = joint_freqs.get(x_t+x_t_1, 0) + 1\n",
    "\n",
    "    for k in freqs:\n",
    "        freqs[k] /= len(pattern)\n",
    "    for k in joint_freqs:\n",
    "        joint_freqs[k] /= len(pattern)\n",
    "\n",
    "    return freqs, joint_freqs\n",
    "\n",
    "def cond_entropy(pattern):\n",
    "    dist, joint_dist = distribution(pattern)\n",
    "    H_X = -sum(p * np.log2(p) for p in dist.values() if p > 0)\n",
    "    H_X_Y = -sum(p * np.log2(p) for p in joint_dist.values() if p > 0)\n",
    "    return H_X_Y - H_X"
   ]
  },
  {
   "cell_type": "code",
   "execution_count": 36,
   "id": "c01fc92b",
   "metadata": {},
   "outputs": [
    {
     "name": "stdout",
     "output_type": "stream",
     "text": [
      "{'0': {'pattern': ['1', '0'], 'neigh': ['6'], 'strat': {'0': '0', '1': '1'}}, '1': {'pattern': ['0', '1'], 'neigh': ['1'], 'strat': {'0': '1', '1': '0'}}, '2': {'pattern': ['1', '0'], 'neigh': ['5'], 'strat': {'0': '0', '1': '1'}}, '3': {'pattern': ['1', '0'], 'neigh': ['2'], 'strat': {'1': '0', '0': '1'}}, '4': {'pattern': ['0', '1'], 'neigh': ['4'], 'strat': {'0': '1', '1': '0'}}, '5': {'pattern': ['0', '1'], 'neigh': ['4'], 'strat': {'0': '1', '1': '0'}}, '6': {'pattern': ['0', '1'], 'neigh': ['6'], 'strat': {'0': '1', '1': '0'}}, '7': {'pattern': ['1', '0'], 'neigh': ['5'], 'strat': {'0': '0', '1': '1'}}}\n",
      "average cond_entropy: 0.000, average n_neigh: 1.000\n",
      "\n",
      "{'0': {'pattern': ['0', '1'], 'neigh': ['2'], 'strat': {'0': '1', '1': '0'}}, '1': {'pattern': ['1', '0'], 'neigh': ['5'], 'strat': {'1': '0', '0': '1'}}, '2': {'pattern': ['0', '1'], 'neigh': ['1'], 'strat': {'1': '1', '0': '0'}}, '3': {'pattern': ['1', '0'], 'neigh': ['7'], 'strat': {'0': '0', '1': '1'}}, '4': {'pattern': ['0', '1'], 'neigh': ['1'], 'strat': {'1': '1', '0': '0'}}, '5': {'pattern': ['1', '0'], 'neigh': ['6'], 'strat': {'1': '0', '0': '1'}}, '6': {'pattern': ['1', '0'], 'neigh': ['2'], 'strat': {'0': '0', '1': '1'}}, '7': {'pattern': ['0', '1'], 'neigh': ['4'], 'strat': {'0': '1', '1': '0'}}}\n",
      "average cond_entropy: 0.000, average n_neigh: 1.000\n",
      "\n",
      "{'0': {'pattern': ['1', '0'], 'neigh': ['6'], 'strat': {'0': '0', '1': '1'}}, '1': {'pattern': ['1', '0'], 'neigh': ['4'], 'strat': {'0': '0', '1': '1'}}, '2': {'pattern': ['1', '0'], 'neigh': ['0'], 'strat': {'1': '0', '0': '1'}}, '3': {'pattern': ['1', '0'], 'neigh': ['5'], 'strat': {'0': '0', '1': '1'}}, '4': {'pattern': ['0', '1'], 'neigh': ['6'], 'strat': {'0': '1', '1': '0'}}, '5': {'pattern': ['0', '1'], 'neigh': ['1'], 'strat': {'1': '1', '0': '0'}}, '6': {'pattern': ['0', '1'], 'neigh': ['1'], 'strat': {'1': '1', '0': '0'}}, '7': {'pattern': ['0', '1'], 'neigh': ['1'], 'strat': {'1': '1', '0': '0'}}}\n",
      "average cond_entropy: 0.000, average n_neigh: 1.000\n",
      "\n",
      "{'0': {'pattern': ['1', '0'], 'neigh': ['1'], 'strat': {'1': '0', '0': '1'}}, '1': {'pattern': ['1', '0'], 'neigh': ['7'], 'strat': {'0': '0', '1': '1'}}, '2': {'pattern': ['1', '0'], 'neigh': ['6'], 'strat': {'0': '0', '1': '1'}}, '3': {'pattern': ['1', '0'], 'neigh': ['2'], 'strat': {'1': '0', '0': '1'}}, '4': {'pattern': ['0', '1'], 'neigh': ['2'], 'strat': {'1': '1', '0': '0'}}, '5': {'pattern': ['0', '1'], 'neigh': ['4'], 'strat': {'0': '1', '1': '0'}}, '6': {'pattern': ['0', '1'], 'neigh': ['2'], 'strat': {'1': '1', '0': '0'}}, '7': {'pattern': ['0', '1'], 'neigh': ['5'], 'strat': {'0': '1', '1': '0'}}}\n",
      "average cond_entropy: 0.000, average n_neigh: 1.000\n",
      "\n",
      "{'0': {'pattern': ['0', '1'], 'neigh': ['1'], 'strat': {'1': '1', '0': '0'}}, '1': {'pattern': ['1', '0'], 'neigh': ['1'], 'strat': {'1': '0', '0': '1'}}, '2': {'pattern': ['1', '0'], 'neigh': ['1'], 'strat': {'1': '0', '0': '1'}}, '3': {'pattern': ['0', '1'], 'neigh': ['4'], 'strat': {'1': '1', '0': '0'}}, '4': {'pattern': ['1', '0'], 'neigh': ['0'], 'strat': {'0': '0', '1': '1'}}, '5': {'pattern': ['0', '1'], 'neigh': ['4'], 'strat': {'1': '1', '0': '0'}}, '6': {'pattern': ['1', '0'], 'neigh': ['4'], 'strat': {'1': '0', '0': '1'}}, '7': {'pattern': ['0', '1'], 'neigh': ['6'], 'strat': {'1': '1', '0': '0'}}}\n",
      "average cond_entropy: 0.000, average n_neigh: 1.000\n",
      "\n",
      "{'0': {'pattern': ['0', '1'], 'neigh': ['7'], 'strat': {'0': '1', '1': '0'}}, '1': {'pattern': ['1', '0'], 'neigh': ['6'], 'strat': {'1': '0', '0': '1'}}, '2': {'pattern': ['1', '0'], 'neigh': ['2'], 'strat': {'1': '0', '0': '1'}}, '3': {'pattern': ['0', '1'], 'neigh': ['0'], 'strat': {'0': '1', '1': '0'}}, '4': {'pattern': ['0', '1'], 'neigh': ['6'], 'strat': {'1': '1', '0': '0'}}, '5': {'pattern': ['1', '0'], 'neigh': ['0'], 'strat': {'0': '0', '1': '1'}}, '6': {'pattern': ['1', '0'], 'neigh': ['6'], 'strat': {'1': '0', '0': '1'}}, '7': {'pattern': ['0', '1'], 'neigh': ['3'], 'strat': {'0': '1', '1': '0'}}}\n",
      "average cond_entropy: 0.000, average n_neigh: 1.000\n",
      "\n",
      "{'0': {'pattern': ['1', '0'], 'neigh': ['2'], 'strat': {'1': '0', '0': '1'}}, '1': {'pattern': ['0', '1'], 'neigh': ['1'], 'strat': {'0': '1', '1': '0'}}, '2': {'pattern': ['1', '0'], 'neigh': ['5'], 'strat': {'0': '0', '1': '1'}}, '3': {'pattern': ['1', '0'], 'neigh': ['2'], 'strat': {'1': '0', '0': '1'}}, '4': {'pattern': ['0', '1'], 'neigh': ['7'], 'strat': {'1': '1', '0': '0'}}, '5': {'pattern': ['0', '1'], 'neigh': ['7'], 'strat': {'1': '1', '0': '0'}}, '6': {'pattern': ['0', '1'], 'neigh': ['5'], 'strat': {'0': '1', '1': '0'}}, '7': {'pattern': ['1', '0'], 'neigh': ['4'], 'strat': {'0': '0', '1': '1'}}}\n",
      "average cond_entropy: 0.000, average n_neigh: 1.000\n",
      "\n",
      "{'0': {'pattern': ['1', '0'], 'neigh': ['1'], 'strat': {'1': '0', '0': '1'}}, '1': {'pattern': ['1', '0'], 'neigh': ['0'], 'strat': {'1': '0', '0': '1'}}, '2': {'pattern': ['1', '0'], 'neigh': ['1'], 'strat': {'1': '0', '0': '1'}}, '3': {'pattern': ['1', '0'], 'neigh': ['3'], 'strat': {'1': '0', '0': '1'}}, '4': {'pattern': ['0', '1'], 'neigh': ['6'], 'strat': {'0': '1', '1': '0'}}, '5': {'pattern': ['0', '1'], 'neigh': ['0'], 'strat': {'1': '1', '0': '0'}}, '6': {'pattern': ['0', '1'], 'neigh': ['1'], 'strat': {'1': '1', '0': '0'}}, '7': {'pattern': ['0', '1'], 'neigh': ['5'], 'strat': {'0': '1', '1': '0'}}}\n",
      "average cond_entropy: 0.000, average n_neigh: 1.000\n",
      "\n",
      "{'0': {'pattern': ['1', '0'], 'neigh': ['6'], 'strat': {'0': '0', '1': '1'}}, '1': {'pattern': ['1', '0'], 'neigh': ['3'], 'strat': {'0': '0', '1': '1'}}, '2': {'pattern': ['1', '0'], 'neigh': ['0'], 'strat': {'1': '0', '0': '1'}}, '3': {'pattern': ['0', '1'], 'neigh': ['0'], 'strat': {'1': '1', '0': '0'}}, '4': {'pattern': ['0', '1'], 'neigh': ['7'], 'strat': {'0': '1', '1': '0'}}, '5': {'pattern': ['1', '0'], 'neigh': ['2'], 'strat': {'1': '0', '0': '1'}}, '6': {'pattern': ['0', '1'], 'neigh': ['4'], 'strat': {'0': '1', '1': '0'}}, '7': {'pattern': ['0', '1'], 'neigh': ['1'], 'strat': {'1': '1', '0': '0'}}}\n",
      "average cond_entropy: 0.000, average n_neigh: 1.000\n",
      "\n",
      "{'0': {'pattern': ['0', '1'], 'neigh': ['7'], 'strat': {'0': '1', '1': '0'}}, '1': {'pattern': ['1', '0'], 'neigh': ['4'], 'strat': {'0': '0', '1': '1'}}, '2': {'pattern': ['1', '0'], 'neigh': ['5'], 'strat': {'0': '0', '1': '1'}}, '3': {'pattern': ['1', '0'], 'neigh': ['7'], 'strat': {'0': '0', '1': '1'}}, '4': {'pattern': ['0', '1'], 'neigh': ['6'], 'strat': {'1': '1', '0': '0'}}, '5': {'pattern': ['0', '1'], 'neigh': ['2'], 'strat': {'1': '1', '0': '0'}}, '6': {'pattern': ['1', '0'], 'neigh': ['2'], 'strat': {'1': '0', '0': '1'}}, '7': {'pattern': ['0', '1'], 'neigh': ['7'], 'strat': {'0': '1', '1': '0'}}}\n",
      "average cond_entropy: 0.000, average n_neigh: 1.000\n",
      "\n"
     ]
    }
   ],
   "source": [
    "for st in struct:\n",
    "    print(st)\n",
    "    av_cent = 0\n",
    "    av_neigh = 0\n",
    "    for ag in st:\n",
    "        cond_ent = cond_entropy(st[ag]['pattern'])\n",
    "        n_neigh = len(st[ag]['neigh'])\n",
    "        #print(f'agent: {ag}, cond_ent: {cond_ent:0.3f}, n_neigh: {n_neigh}')\n",
    "        av_cent += cond_ent\n",
    "        av_neigh += n_neigh\n",
    "    print(f'average cond_entropy: {av_cent/len(st):0.3f}, average n_neigh: {av_neigh/len(st):0.3f}')\n",
    "    print()"
   ]
  },
  {
   "cell_type": "code",
   "execution_count": 37,
   "id": "ce8d179c",
   "metadata": {},
   "outputs": [],
   "source": [
    "#struct[2]"
   ]
  },
  {
   "cell_type": "code",
   "execution_count": 38,
   "id": "4d0aa73b",
   "metadata": {},
   "outputs": [
    {
     "name": "stdout",
     "output_type": "stream",
     "text": [
      "['1', '0']\n",
      "['0', '1']\n",
      "['1', '0']\n",
      "['1', '0']\n",
      "['0', '1']\n",
      "['0', '1']\n",
      "['0', '1']\n",
      "['1', '0']\n"
     ]
    }
   ],
   "source": [
    "n = 0\n",
    "for ag in struct[n]:\n",
    "    print(struct[n][ag]['pattern'])"
   ]
  },
  {
   "cell_type": "code",
   "execution_count": null,
   "id": "37d9291d",
   "metadata": {},
   "outputs": [],
   "source": []
  }
 ],
 "metadata": {
  "kernelspec": {
   "display_name": "venv",
   "language": "python",
   "name": "venv"
  },
  "language_info": {
   "codemirror_mode": {
    "name": "ipython",
    "version": 3
   },
   "file_extension": ".py",
   "mimetype": "text/x-python",
   "name": "python",
   "nbconvert_exporter": "python",
   "pygments_lexer": "ipython3",
   "version": "3.10.12"
  }
 },
 "nbformat": 4,
 "nbformat_minor": 5
}
