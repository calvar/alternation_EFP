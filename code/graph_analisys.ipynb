{
 "cells": [
  {
   "cell_type": "code",
   "execution_count": 739,
   "id": "05b5f2a2-f6a5-4749-99f1-2f5109cbeed5",
   "metadata": {},
   "outputs": [],
   "source": [
    "import numpy as np\n",
    "import json\n",
    "import random\n",
    "import networkx as nx\n",
    "from pyvis.network import Network\n",
    "import matplotlib.pyplot as plt\n",
    "import ipywidgets as widgets\n",
    "from IPython.display import display, clear_output"
   ]
  },
  {
   "cell_type": "code",
   "execution_count": 740,
   "id": "92c3bd1f-a17b-4ebe-bd70-b5fb610fbe46",
   "metadata": {},
   "outputs": [],
   "source": [
    "# No. of agents\n",
    "N = 8\n",
    "# No. of available spots\n",
    "s = 4"
   ]
  },
  {
   "cell_type": "code",
   "execution_count": 741,
   "id": "b39e4127",
   "metadata": {},
   "outputs": [],
   "source": [
    "import matplotlib.colors as mcolors\n",
    "named_colors = mcolors.CSS4_COLORS\n",
    "color_names = list(named_colors.keys())\n",
    "random.seed(1234)\n",
    "random.shuffle(color_names)\n",
    "shape_names = ['dot','diamond','square','triangle','star','triangleDown']\n",
    "\n",
    "def bin_to_decimal(bin_str):\n",
    "    return int(bin_str, 2)\n",
    "\n",
    "def get_color(bin_str):\n",
    "    decimal = bin_to_decimal(bin_str)\n",
    "    return color_names[decimal % len(color_names)]\n",
    "\n",
    "def get_shape(bin_str):\n",
    "    decimal = bin_to_decimal(bin_str)\n",
    "    return shape_names[decimal % len(shape_names)]"
   ]
  },
  {
   "cell_type": "code",
   "execution_count": 742,
   "id": "7ed0d0d8-1976-4e3c-8973-90fda310e8c2",
   "metadata": {},
   "outputs": [],
   "source": [
    "with open(f'graph_data_N{N:d}s{s:d}.json', 'r') as f:\n",
    "  struct = json.load(f)\n",
    "#print(json.dumps(struct, indent = 4))"
   ]
  },
  {
   "cell_type": "code",
   "execution_count": 743,
   "id": "5f8341ae-605f-4483-9a8e-d23f4ea7180d",
   "metadata": {},
   "outputs": [],
   "source": [
    "Npat = 1\n",
    "edges = []\n",
    "e_colors = {}\n",
    "n_colors = {}\n",
    "n_shapes = {}\n",
    "for n1 in struct[Npat]:\n",
    "    n_colors[n1] = get_color(''.join(i for i in struct[Npat][n1][\"pattern\"]))\n",
    "    n_shapes[n1] = get_shape(''.join(i for i in struct[Npat][n1][\"pattern\"]))\n",
    "    for n2 in struct[Npat][str(n1)][\"neigh\"]:  \n",
    "        if len(struct[Npat][str(n1)][\"strat\"]) > 1:\n",
    "            edges.append((n2, n1))\n",
    "\n",
    "            copy_strat = False\n",
    "            if len(struct[Npat][str(n1)][\"strat\"]) == 2:\n",
    "                copy_strat = (struct[Npat][str(n1)][\"strat\"]['0'] == '0') and (struct[Npat][str(n1)][\"strat\"]['1'] == '1')\n",
    "                if copy_strat:\n",
    "                    e_colors[f'{n2}-{n1}'] = 'darkturquoise'\n",
    "                else:\n",
    "                    e_colors[f'{n2}-{n1}'] = 'black'\n",
    "            else:\n",
    "                e_colors[f'{n2}-{n1}'] = 'black'"
   ]
  },
  {
   "cell_type": "code",
   "execution_count": 744,
   "id": "50b2e392",
   "metadata": {},
   "outputs": [],
   "source": [
    "# print(edges)\n",
    "# print(e_colors)\n",
    "# print(n_colors)"
   ]
  },
  {
   "cell_type": "code",
   "execution_count": 745,
   "id": "0d1423f2",
   "metadata": {},
   "outputs": [
    {
     "data": {
      "text/plain": [
       "'khaki'"
      ]
     },
     "execution_count": 745,
     "metadata": {},
     "output_type": "execute_result"
    }
   ],
   "source": [
    "n_colors['3']"
   ]
  },
  {
   "cell_type": "code",
   "execution_count": 746,
   "id": "c7b8b0d3-7566-4a89-97e0-45843faf9367",
   "metadata": {},
   "outputs": [],
   "source": [
    "DG = nx.DiGraph()\n",
    "DG.add_nodes_from([str(i) for i in range(N)])\n",
    "DG.add_edges_from(edges)\n",
    "for node in DG.nodes:\n",
    "    DG.nodes[node]['color'] = n_colors[node]"
   ]
  },
  {
   "cell_type": "code",
   "execution_count": 747,
   "id": "32a5f8cf",
   "metadata": {},
   "outputs": [
    {
     "data": {
      "text/plain": [
       "[('0', {'color': 'khaki'}),\n",
       " ('1', {'color': 'khaki'}),\n",
       " ('2', {'color': 'khaki'}),\n",
       " ('3', {'color': 'khaki'}),\n",
       " ('4', {'color': 'coral'}),\n",
       " ('5', {'color': 'coral'}),\n",
       " ('6', {'color': 'coral'}),\n",
       " ('7', {'color': 'coral'})]"
      ]
     },
     "execution_count": 747,
     "metadata": {},
     "output_type": "execute_result"
    }
   ],
   "source": [
    "list(DG.nodes(data=True))"
   ]
  },
  {
   "cell_type": "code",
   "execution_count": 748,
   "id": "d480b7d8-3bac-4d5d-bfe5-167c779863aa",
   "metadata": {},
   "outputs": [
    {
     "name": "stdout",
     "output_type": "stream",
     "text": [
      "Warning: When  cdn_resources is 'local' jupyter notebook has issues displaying graphics on chrome/safari. Use cdn_resources='in_line' or cdn_resources='remote' if you have issues viewing graphics in a notebook.\n"
     ]
    }
   ],
   "source": [
    "dnet = Network(\"400px\",\"400px\",notebook=True,directed=True)\n",
    "dnet.from_nx(DG)\n",
    "for edge in dnet.edges:\n",
    "    edge['color'] = e_colors[f\"{edge['from']}-{edge['to']}\"]\n",
    "for node in dnet.nodes:\n",
    "    node['color'] = {'background': n_colors[node['id']], 'border': 'black'}\n",
    "    node['shape'] = n_shapes[node['id']]"
   ]
  },
  {
   "cell_type": "code",
   "execution_count": 749,
   "id": "722770c0",
   "metadata": {},
   "outputs": [
    {
     "name": "stdout",
     "output_type": "stream",
     "text": [
      "dnet.html\n"
     ]
    },
    {
     "data": {
      "text/html": [
       "\n",
       "        <iframe\n",
       "            width=\"400px\"\n",
       "            height=\"400px\"\n",
       "            src=\"dnet.html\"\n",
       "            frameborder=\"0\"\n",
       "            allowfullscreen\n",
       "            \n",
       "        ></iframe>\n",
       "        "
      ],
      "text/plain": [
       "<IPython.lib.display.IFrame at 0x73b0b0c32170>"
      ]
     },
     "execution_count": 749,
     "metadata": {},
     "output_type": "execute_result"
    }
   ],
   "source": [
    "dnet.toggle_physics(True)\n",
    "dnet.show('dnet.html')"
   ]
  },
  {
   "cell_type": "code",
   "execution_count": 750,
   "id": "aa4dcbd2-56c6-4677-a1c9-331e264ec4d9",
   "metadata": {},
   "outputs": [],
   "source": [
    "#degree = [len(list(DG.neighbors(str(i)))) for i in range(N)]\n",
    "#degree"
   ]
  },
  {
   "cell_type": "markdown",
   "id": "049b38ca",
   "metadata": {},
   "source": [
    "### Test\n",
    "Check if by finding the maximum independent sets of the undirected graph one gets the same independent sets as in the directed graph.\n",
    "\n",
    "Answer: Not necessarily."
   ]
  },
  {
   "cell_type": "code",
   "execution_count": 751,
   "id": "339e31ff",
   "metadata": {},
   "outputs": [],
   "source": [
    "#Maximal independent set of the undirected graph\n",
    "UG = DG.to_undirected()\n",
    "#nx.algorithms.mis.maximal_independent_set(UG)\n",
    "colors_ = {}\n",
    "coloring = nx.coloring.greedy_color(UG, strategy=\"independent_set\")"
   ]
  },
  {
   "cell_type": "code",
   "execution_count": 752,
   "id": "53e7f8ed",
   "metadata": {},
   "outputs": [
    {
     "data": {
      "text/plain": [
       "{'0': 0, '3': 0, '4': 0, '5': 0, '7': 1, '1': 1, '6': 1, '2': 2}"
      ]
     },
     "execution_count": 752,
     "metadata": {},
     "output_type": "execute_result"
    }
   ],
   "source": [
    "coloring"
   ]
  },
  {
   "cell_type": "code",
   "execution_count": 753,
   "id": "8e8ebed2",
   "metadata": {},
   "outputs": [
    {
     "data": {
      "text/plain": [
       "'khaki'"
      ]
     },
     "execution_count": 753,
     "metadata": {},
     "output_type": "execute_result"
    }
   ],
   "source": [
    "n_colors[str(coloring['1'])]"
   ]
  },
  {
   "cell_type": "code",
   "execution_count": 754,
   "id": "e31e50f4",
   "metadata": {},
   "outputs": [
    {
     "name": "stdout",
     "output_type": "stream",
     "text": [
      "Warning: When  cdn_resources is 'local' jupyter notebook has issues displaying graphics on chrome/safari. Use cdn_resources='in_line' or cdn_resources='remote' if you have issues viewing graphics in a notebook.\n"
     ]
    }
   ],
   "source": [
    "dnet1 = Network(\"400px\",\"400px\",notebook=True,directed=False)\n",
    "dnet1.from_nx(UG)\n",
    "for node in dnet1.nodes:\n",
    "    node['color'] = {'background': color_names[coloring[node['id']]], 'border': 'black'}\n",
    "    #node['shape'] = n_shapes[node['id']]"
   ]
  },
  {
   "cell_type": "code",
   "execution_count": 755,
   "id": "c3c2987b",
   "metadata": {},
   "outputs": [
    {
     "name": "stdout",
     "output_type": "stream",
     "text": [
      "dnet_u.html\n"
     ]
    },
    {
     "data": {
      "text/html": [
       "\n",
       "        <iframe\n",
       "            width=\"400px\"\n",
       "            height=\"400px\"\n",
       "            src=\"dnet_u.html\"\n",
       "            frameborder=\"0\"\n",
       "            allowfullscreen\n",
       "            \n",
       "        ></iframe>\n",
       "        "
      ],
      "text/plain": [
       "<IPython.lib.display.IFrame at 0x73b0b0c26e30>"
      ]
     },
     "execution_count": 755,
     "metadata": {},
     "output_type": "execute_result"
    }
   ],
   "source": [
    "dnet1.toggle_physics(True)\n",
    "dnet1.show('dnet_u.html')"
   ]
  },
  {
   "cell_type": "markdown",
   "id": "afc74bfc",
   "metadata": {},
   "source": [
    "### Compute the graph entropy (UNDER CONSTRUCTION)"
   ]
  },
  {
   "cell_type": "code",
   "execution_count": 756,
   "id": "3d184566",
   "metadata": {},
   "outputs": [
    {
     "name": "stdout",
     "output_type": "stream",
     "text": [
      "Maximal independent set: ['1', '0', '7', '6']\n"
     ]
    }
   ],
   "source": [
    "# A maximal independent set\n",
    "maximal_is = nx.maximal_independent_set(UG, seed=42)\n",
    "print(f\"Maximal independent set: {maximal_is}\")"
   ]
  },
  {
   "cell_type": "code",
   "execution_count": 757,
   "id": "3b4b8a9b",
   "metadata": {},
   "outputs": [
    {
     "name": "stdout",
     "output_type": "stream",
     "text": [
      "Maximal independent set of the subgraph: ['2']\n"
     ]
    }
   ],
   "source": [
    "# A Maximal Independent Set of a subgraph\n",
    "subgraph = ['2', '1', '6']\n",
    "maximal_is_subgraph = nx.maximal_independent_set(UG.subgraph(subgraph), seed=2)\n",
    "print(f\"Maximal independent set of the subgraph: {maximal_is_subgraph}\")"
   ]
  },
  {
   "cell_type": "code",
   "execution_count": 758,
   "id": "507be239",
   "metadata": {},
   "outputs": [
    {
     "name": "stdout",
     "output_type": "stream",
     "text": [
      "Maximal independent sets with seed 0: [0, 1, 6, 7]\n",
      "Maximal independent sets with seed 1: [2, 5, 7]\n",
      "Maximal independent sets with seed 2: [0, 1, 3, 6]\n",
      "Maximal independent sets with seed 3: [0, 3, 4, 5]\n",
      "Maximal independent sets with seed 4: [0, 1, 3, 6]\n",
      "Maximal independent sets with seed 5: [2, 3, 4, 5]\n",
      "Maximal independent sets with seed 6: [0, 1, 6, 7]\n",
      "Maximal independent sets with seed 7: [2, 3, 4, 5]\n",
      "Maximal independent sets with seed 8: [0, 1, 3, 6]\n",
      "Maximal independent sets with seed 9: [0, 1, 6, 7]\n",
      "Maximal independent sets with seed 10: [0, 3, 4, 5]\n",
      "Maximal independent sets with seed 11: [0, 1, 6, 7]\n",
      "Maximal independent sets with seed 12: [0, 1, 6, 7]\n",
      "Maximal independent sets with seed 13: [2, 3, 4, 5]\n",
      "Maximal independent sets with seed 14: [0, 1, 3, 6]\n",
      "Maximal independent sets with seed 15: [0, 1, 3, 6]\n"
     ]
    }
   ],
   "source": [
    "# Try to find all maximal independent sets\n",
    "iss = []\n",
    "for s in range(2*UG.number_of_nodes()):\n",
    "    maximal_is = list(map(int, nx.maximal_independent_set(UG, seed=s)))\n",
    "    maximal_is.sort()\n",
    "    print(f\"Maximal independent sets with seed {s}: {maximal_is}\")\n",
    "    iss.append(maximal_is)"
   ]
  },
  {
   "cell_type": "code",
   "execution_count": 759,
   "id": "80f5d7d5",
   "metadata": {},
   "outputs": [
    {
     "ename": "ValueError",
     "evalue": "setting an array element with a sequence. The requested array has an inhomogeneous shape after 1 dimensions. The detected shape was (16,) + inhomogeneous part.",
     "output_type": "error",
     "traceback": [
      "\u001b[0;31m---------------------------------------------------------------------------\u001b[0m",
      "\u001b[0;31mValueError\u001b[0m                                Traceback (most recent call last)",
      "Cell \u001b[0;32mIn[759], line 1\u001b[0m\n\u001b[0;32m----> 1\u001b[0m iss \u001b[38;5;241m=\u001b[39m \u001b[43mnp\u001b[49m\u001b[38;5;241;43m.\u001b[39;49m\u001b[43marray\u001b[49m\u001b[43m(\u001b[49m\u001b[43miss\u001b[49m\u001b[43m)\u001b[49m\n\u001b[1;32m      2\u001b[0m np\u001b[38;5;241m.\u001b[39munique(iss, axis\u001b[38;5;241m=\u001b[39m\u001b[38;5;241m0\u001b[39m)\n",
      "\u001b[0;31mValueError\u001b[0m: setting an array element with a sequence. The requested array has an inhomogeneous shape after 1 dimensions. The detected shape was (16,) + inhomogeneous part."
     ]
    }
   ],
   "source": [
    "iss = np.array(iss)\n",
    "np.unique(iss, axis=0)"
   ]
  },
  {
   "cell_type": "markdown",
   "id": "640e82b3",
   "metadata": {},
   "source": [
    "----------------------\n",
    "Understanding the independent subgraph algorithm for an undirected graph."
   ]
  },
  {
   "cell_type": "code",
   "execution_count": null,
   "id": "347a614d",
   "metadata": {},
   "outputs": [],
   "source": [
    "seed_node = np.random.choice(UG.nodes()) # Pick a random node to start with"
   ]
  },
  {
   "cell_type": "code",
   "execution_count": null,
   "id": "40a29047",
   "metadata": {},
   "outputs": [
    {
     "data": {
      "text/plain": [
       "{'0', '5'}"
      ]
     },
     "execution_count": 707,
     "metadata": {},
     "output_type": "execute_result"
    }
   ],
   "source": [
    "neighbors = set(UG.adj[seed_node]) # Get the neighbors of the node\n",
    "neighbors"
   ]
  },
  {
   "cell_type": "code",
   "execution_count": null,
   "id": "cce3fc17",
   "metadata": {},
   "outputs": [
    {
     "data": {
      "text/plain": [
       "{'1', '2', '3', '4', '6', '8'}"
      ]
     },
     "execution_count": 708,
     "metadata": {},
     "output_type": "execute_result"
    }
   ],
   "source": [
    "indep_nodes = list(seed_node) # Initialize the independent set with the seed node\n",
    "available_nodes = set(UG.nodes()).difference(neighbors.union(indep_nodes)) # Set of nodes that are not the seed nor its neighbors\n",
    "available_nodes"
   ]
  },
  {
   "cell_type": "code",
   "execution_count": null,
   "id": "eba21c20",
   "metadata": {},
   "outputs": [
    {
     "data": {
      "text/plain": [
       "['7', np.str_('3'), np.str_('2'), np.str_('8')]"
      ]
     },
     "execution_count": 709,
     "metadata": {},
     "output_type": "execute_result"
    }
   ],
   "source": [
    "while available_nodes:\n",
    "    node = np.random.choice(list(available_nodes)) # Randomly select a node from the available nodes\n",
    "    indep_nodes.append(node) # Add the selected node to the independent set\n",
    "    available_nodes.difference_update(list(UG.adj[node]) + [node]) # Update the available nodes by removing the neighbors of the selected node and the node itself\n",
    "indep_nodes"
   ]
  },
  {
   "cell_type": "markdown",
   "id": "c56e67f1",
   "metadata": {},
   "source": [
    "-----------------------------\n",
    "Try the same thing for a directed graph"
   ]
  },
  {
   "cell_type": "code",
   "execution_count": null,
   "id": "bdf27ed2",
   "metadata": {},
   "outputs": [],
   "source": [
    "seed_node = np.random.choice(DG.nodes()) # Pick a random node to start with"
   ]
  },
  {
   "cell_type": "code",
   "execution_count": null,
   "id": "15e01100",
   "metadata": {},
   "outputs": [
    {
     "data": {
      "text/plain": [
       "{'7', '8'}"
      ]
     },
     "execution_count": 711,
     "metadata": {},
     "output_type": "execute_result"
    }
   ],
   "source": [
    "neighbors = set(DG.adj[seed_node]) # Get the neighbors of the node\n",
    "neighbors"
   ]
  },
  {
   "cell_type": "code",
   "execution_count": null,
   "id": "2b1b30da",
   "metadata": {},
   "outputs": [
    {
     "data": {
      "text/plain": [
       "{'0', '1', '2', '3', '4', '6'}"
      ]
     },
     "execution_count": 712,
     "metadata": {},
     "output_type": "execute_result"
    }
   ],
   "source": [
    "indep_nodes = list(seed_node) # Initialize the independent set with the seed node\n",
    "available_nodes = set(DG.nodes()).difference(neighbors.union(indep_nodes)) # Set of nodes that are not the seed nor its neighbors\n",
    "available_nodes"
   ]
  },
  {
   "cell_type": "code",
   "execution_count": null,
   "id": "71a4fc7a",
   "metadata": {},
   "outputs": [
    {
     "data": {
      "text/plain": [
       "['5', np.str_('0'), np.str_('3'), np.str_('2'), np.str_('6')]"
      ]
     },
     "execution_count": 713,
     "metadata": {},
     "output_type": "execute_result"
    }
   ],
   "source": [
    "while available_nodes:\n",
    "    node = np.random.choice(list(available_nodes)) # Randomly select a node from the available nodes\n",
    "    indep_nodes.append(node) # Add the selected node to the independent set\n",
    "    available_nodes.difference_update(list(DG.adj[node]) + [node]) # Update the available nodes by removing the neighbors of the selected node and the node itself\n",
    "indep_nodes"
   ]
  }
 ],
 "metadata": {
  "kernelspec": {
   "display_name": "venv",
   "language": "python",
   "name": "venv"
  },
  "language_info": {
   "codemirror_mode": {
    "name": "ipython",
    "version": 3
   },
   "file_extension": ".py",
   "mimetype": "text/x-python",
   "name": "python",
   "nbconvert_exporter": "python",
   "pygments_lexer": "ipython3",
   "version": "3.10.12"
  }
 },
 "nbformat": 4,
 "nbformat_minor": 5
}
