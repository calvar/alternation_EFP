{
 "cells": [
  {
   "cell_type": "code",
   "execution_count": 2,
   "id": "05b5f2a2-f6a5-4749-99f1-2f5109cbeed5",
   "metadata": {},
   "outputs": [],
   "source": [
    "import json\n",
    "import networkx as nx\n",
    "from pyvis.network import Network\n",
    "import matplotlib.pyplot as plt\n",
    "import ipywidgets as widgets\n",
    "from IPython.display import display, clear_output"
   ]
  },
  {
   "cell_type": "code",
   "execution_count": 3,
   "id": "92c3bd1f-a17b-4ebe-bd70-b5fb610fbe46",
   "metadata": {},
   "outputs": [],
   "source": [
    "# No. of agents\n",
    "N = 5\n",
    "# No. of available spots\n",
    "s = 2"
   ]
  },
  {
   "cell_type": "code",
   "execution_count": 4,
   "id": "7ed0d0d8-1976-4e3c-8973-90fda310e8c2",
   "metadata": {},
   "outputs": [],
   "source": [
    "with open(f'graph_data_N{N:d}s{s:d}.json', 'r') as f:\n",
    "  struct = json.load(f)\n",
    "#print(json.dumps(struct, indent = 4))"
   ]
  },
  {
   "cell_type": "code",
   "execution_count": 5,
   "id": "5e7e940c-31a3-4e85-8575-5853fb52d831",
   "metadata": {},
   "outputs": [
    {
     "data": {
      "text/plain": [
       "{'0': {'pattern': ['0', '0', '1', '1', '0'],\n",
       "  'neigh': ['3', '4'],\n",
       "  'strat': {'11': '0', '10': '1', '01': '1', '00': '0'}},\n",
       " '1': {'pattern': ['0', '0', '0', '1', '1'],\n",
       "  'neigh': ['0'],\n",
       "  'strat': {'0': '0', '1': '1'}},\n",
       " '2': {'pattern': ['0', '1', '0', '0', '1'],\n",
       "  'neigh': ['0', '4'],\n",
       "  'strat': {'01': '1', '00': '0', '11': '0', '10': '1'}},\n",
       " '3': {'pattern': ['1', '1', '0', '0', '0'],\n",
       "  'neigh': ['2', '3'],\n",
       "  'strat': {'01': '1', '11': '0', '00': '0', '10': '1'}},\n",
       " '4': {'pattern': ['1', '0', '1', '0', '0'],\n",
       "  'neigh': ['2'],\n",
       "  'strat': {'0': '0', '1': '1'}}}"
      ]
     },
     "execution_count": 5,
     "metadata": {},
     "output_type": "execute_result"
    }
   ],
   "source": [
    "struct"
   ]
  },
  {
   "cell_type": "code",
   "execution_count": 6,
   "id": "5f8341ae-605f-4483-9a8e-d23f4ea7180d",
   "metadata": {},
   "outputs": [],
   "source": [
    "edges = []\n",
    "for n1 in struct:\n",
    "    for n2 in struct[str(n1)][\"neigh\"]:  \n",
    "        if len(struct[str(n1)][\"strat\"]) > 1:\n",
    "            edges.append((n1, n2))"
   ]
  },
  {
   "cell_type": "code",
   "execution_count": 7,
   "id": "c7b8b0d3-7566-4a89-97e0-45843faf9367",
   "metadata": {},
   "outputs": [],
   "source": [
    "DG = nx.DiGraph()\n",
    "DG.add_nodes_from([str(i) for i in range(N)])\n",
    "DG.add_edges_from(edges)"
   ]
  },
  {
   "cell_type": "code",
   "execution_count": 8,
   "id": "d480b7d8-3bac-4d5d-bfe5-167c779863aa",
   "metadata": {},
   "outputs": [
    {
     "name": "stdout",
     "output_type": "stream",
     "text": [
      "Warning: When  cdn_resources is 'local' jupyter notebook has issues displaying graphics on chrome/safari. Use cdn_resources='in_line' or cdn_resources='remote' if you have issues viewing graphics in a notebook.\n",
      "dnet.html\n"
     ]
    },
    {
     "data": {
      "text/html": [
       "\n",
       "        <iframe\n",
       "            width=\"400px\"\n",
       "            height=\"400px\"\n",
       "            src=\"dnet.html\"\n",
       "            frameborder=\"0\"\n",
       "            allowfullscreen\n",
       "            \n",
       "        ></iframe>\n",
       "        "
      ],
      "text/plain": [
       "<IPython.lib.display.IFrame at 0x74a0ec17b5c0>"
      ]
     },
     "execution_count": 8,
     "metadata": {},
     "output_type": "execute_result"
    }
   ],
   "source": [
    "dnet = Network(\"400px\",\"400px\",notebook=True,directed=True)\n",
    "dnet.from_nx(DG)\n",
    "dnet.toggle_physics(True)\n",
    "dnet.show('dnet.html')"
   ]
  },
  {
   "cell_type": "code",
   "execution_count": 14,
   "id": "aa4dcbd2-56c6-4677-a1c9-331e264ec4d9",
   "metadata": {},
   "outputs": [
    {
     "data": {
      "text/plain": [
       "[2, 1, 2, 2, 1]"
      ]
     },
     "execution_count": 14,
     "metadata": {},
     "output_type": "execute_result"
    }
   ],
   "source": [
    "degree = [len(list(DG.neighbors(str(i)))) for i in range(N)]\n",
    "degree"
   ]
  }
 ],
 "metadata": {
  "kernelspec": {
   "display_name": "venv",
   "language": "python",
   "name": "python3"
  },
  "language_info": {
   "codemirror_mode": {
    "name": "ipython",
    "version": 3
   },
   "file_extension": ".py",
   "mimetype": "text/x-python",
   "name": "python",
   "nbconvert_exporter": "python",
   "pygments_lexer": "ipython3",
   "version": "3.12.3"
  }
 },
 "nbformat": 4,
 "nbformat_minor": 5
}
