{
 "cells": [
  {
   "cell_type": "code",
   "execution_count": 3,
   "id": "fd62ff2b",
   "metadata": {},
   "outputs": [],
   "source": [
    "import numpy as np\n",
    "import json"
   ]
  },
  {
   "cell_type": "code",
   "execution_count": 4,
   "id": "51efddab",
   "metadata": {},
   "outputs": [],
   "source": [
    "Pattern = {0: [\"1\",\"0\",\"1\"], 1: [\"0\",\"1\",\"0\"], 2: [\"1\",\"0\",\"0\"]}\n",
    "N = len(Pattern)\n",
    "neighbors = np.array([[i for i in range(N)] for j in range(N)])"
   ]
  },
  {
   "cell_type": "code",
   "execution_count": 5,
   "id": "3c0d1b05",
   "metadata": {},
   "outputs": [],
   "source": [
    "def filter_pattern(pattern, f):\n",
    "    f_pat = {}\n",
    "    for i in pattern.keys():\n",
    "        if f[i]:\n",
    "            f_pat[i] = pattern[i]\n",
    "    return f_pat\n",
    "\n",
    "def combinations(n, k):\n",
    "    combos = []\n",
    "    if (k == 0):\n",
    "        return [[]]\n",
    "    elif (k == 1):\n",
    "        return [[i] for i in n] \n",
    "    for i in range(len(n)): \n",
    "        head = n[i:i+1]\n",
    "\n",
    "        tail = combinations(n[i+1:],k-1)\n",
    "\n",
    "        for j in range(len(tail)):\n",
    "            #print(\"tail[j]\", tail[j])\n",
    "            if (type(tail[j]) == int):\n",
    "                combo = head + [tail[j]]\n",
    "            else:\n",
    "                combo = head + tail[j]\n",
    "            combos.append(combo)   \n",
    "    return combos\n",
    "\n",
    "def get_strategy(pattern, idx, known_idx):\n",
    "    my_neighb = known_idx[idx].tolist() #np.delete(known_idx[idx],np.where(known_idx[idx]==idx)[0]).tolist()\n",
    "    N = len(pattern)\n",
    "    l = len(pattern[idx])\n",
    "    #print(my_neighb)\n",
    "\n",
    "    for Nneigh in range(1,len(my_neighb)+1):\n",
    "        neighb_lists = combinations(my_neighb, Nneigh)\n",
    "        #print(\"neigh lists\", neighb_lists)\n",
    "\n",
    "        #neighb_lists = [[idx] + nl for nl in neighb_lists]\n",
    "        \n",
    "        for n in neighb_lists:\n",
    "            columns = sorted(n)\n",
    "            mask = [(i in columns) for i in range(N)]\n",
    "            #print(\"mask\", mask)\n",
    "            f_pat = filter_pattern(pattern, mask) #Leave just the observed data columns\n",
    "            #print(\"f_pat\", f_pat) \n",
    "            \n",
    "            #print(idx,pattern,f_pat)\n",
    "            strat = {}\n",
    "            test = True\n",
    "            for i in range(l):\n",
    "                p = ''.join(f_pat[a][i] for a in columns)\n",
    "                #print(p)\n",
    "                if p not in strat:\n",
    "                    strat[p] = pattern[idx][(i+1)%l]\n",
    "                else:\n",
    "                    if strat[p] != pattern[idx][(i+1)%l]:\n",
    "                        test = False\n",
    "                        break\n",
    "        \n",
    "            if test: \n",
    "                same = True\n",
    "                ini = strat[list(strat.keys())[0]]\n",
    "                for p in strat:\n",
    "                    same = same and (strat[p] == ini)\n",
    "                if same: #If it takes always the same action...\n",
    "                    return (), {'any': strat[list(strat.keys())[0]]}\n",
    "                else:\n",
    "                    return tuple(columns), strat\n",
    "    return None  #If the output is None, then most likely there is no stable pattern"
   ]
  },
  {
   "cell_type": "code",
   "execution_count": 6,
   "id": "d58b45e5",
   "metadata": {},
   "outputs": [],
   "source": [
    "rel_data = {}\n",
    "pat = Pattern\n",
    "for i in range(N): \n",
    "    rel_data[i] = {}\n",
    "    rel_data[i][\"pattern\"] = pat[i]\n",
    "    strat = get_strategy(pat, i, neighbors)\n",
    "    rel_data[i][\"neigh\"] = strat[0]\n",
    "    rel_data[i][\"strat\"] = strat[1]"
   ]
  },
  {
   "cell_type": "code",
   "execution_count": 8,
   "id": "686dcd6e",
   "metadata": {},
   "outputs": [],
   "source": [
    "with open(f'graph_data_N{N:d}.json', 'w') as json_file:\n",
    "  json.dump(rel_data, json_file)"
   ]
  }
 ],
 "metadata": {
  "kernelspec": {
   "display_name": "venv",
   "language": "python",
   "name": "venv"
  },
  "language_info": {
   "codemirror_mode": {
    "name": "ipython",
    "version": 3
   },
   "file_extension": ".py",
   "mimetype": "text/x-python",
   "name": "python",
   "nbconvert_exporter": "python",
   "pygments_lexer": "ipython3",
   "version": "3.10.12"
  }
 },
 "nbformat": 4,
 "nbformat_minor": 5
}
